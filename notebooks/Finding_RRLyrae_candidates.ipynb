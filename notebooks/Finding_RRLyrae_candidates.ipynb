{
 "cells": [
  {
   "cell_type": "code",
   "execution_count": 1,
   "metadata": {
    "collapsed": true
   },
   "outputs": [],
   "source": [
    "import numpy as np\n",
    "import astropy.io.fits as fits\n",
    "import astropy.coordinates as coords\n",
    "import astropy.units as u\n",
    "from astropy.time import Time\n",
    "from glob import glob\n",
    "import matplotlib.pyplot as plt\n",
    "import shelve, pickle\n",
    "import time\n",
    "%matplotlib inline"
   ]
  },
  {
   "cell_type": "markdown",
   "metadata": {},
   "source": [
    "#Hands-On Exercise 4:\n",
    "Finding RR Lyrae Candidates Using SDSS Photometric Colors\n",
    "========\n",
    "\n",
    "#####Version 0.1\n",
    "\n",
    "\n",
    "As we learned earlier today, RR Lyrae stars (RRL) are a particularly interesting class of variable stars (see the talk by B. Sesar). In particular, RRL are pulsating variables (PVs) that can be used as standard(izable) candles. As RRL are relatively luminous, they can be used to measured distances in the outskirts of the Milky Way halo, and in some cases even measure the distances to other galaxies. Thus, RRL are some of the best studied variable stars, and the goal of this exercise is to identify RRL candidates from SDSS data. \n",
    "\n",
    "In addition to identifying RRL, we will work on writing SQL queries and cross-matching sources between different data sets.\n",
    "\n",
    "***\n",
    "By AA Miller (c) 2015 Jun 04"
   ]
  },
  {
   "cell_type": "markdown",
   "metadata": {},
   "source": [
    "##Problem 1) Download SDSS data\n",
    "\n",
    "The first step to search for candidates will be accessing the data from the SDSS archive. One way to do this is via the [SDSS web-based SQL interface](http://skyserver.sdss.org/dr12/en/tools/search/sql.aspx) (you may want to bookmark this page for your future reference). It is also possible to query the SDSS database using the Python module `astroquery`, which is an affiliated package of `astropy`. To get a sense of the form of an SQL query, let's examine the example from the SDSS website:\n",
    "\n",
    "    -- This query does a table JOIN between the imaging (PhotoObj) and spectra\n",
    "    -- (SpecObj) tables and includes the necessary columns in the SELECT to upload\n",
    "    -- the results to the SAS (Science Archive Server) for FITS file retrieval.\n",
    "    SELECT TOP 10\n",
    "       p.objid,p.ra,p.dec,p.u,p.g,p.r,p.i,p.z,\n",
    "       p.run, p.rerun, p.camcol, p.field,\n",
    "       s.specobjid, s.class, s.z as redshift,\n",
    "       s.plate, s.mjd, s.fiberid\n",
    "    FROM PhotoObj AS p\n",
    "    JOIN SpecObj AS s ON s.bestobjid = p.objid\n",
    "    WHERE \n",
    "       p.u BETWEEN 0 AND 19.6\n",
    "       AND g BETWEEN 0 AND 20\n",
    "\n",
    "This query has all the elements that we have been introduced to: a `SELECT` statement to define the columns we want returned, a `FROM` statement to select which tables we want to query, a `JOIN` statement to select data from multiple tables, and finally a `WHERE` statement to place conditional constraints on the returned data. As noted in the comments (prepended with `--` in SQL), this query combines imaging and spectroscopic data, to find sources with $u < 19.6$ and $g < 20$ mag. We will only be accessing photometric data today, so you will not need to worry about writing queries with `JOIN`s. \n",
    "\n",
    "Finally, for completeness, note that should you need to write complex or very long SDSS queries in the future, it is best to use [CasJobs](http://skyserver.sdss.org/casjobs/). "
   ]
  },
  {
   "cell_type": "markdown",
   "metadata": {},
   "source": [
    "###Part A) Make an SDSS query\n",
    "\n",
    "We will begin with a simple SDSS query to identify the colors of our favorite star (see Hands-on session 1). SDSS tables can be a little intimidating: there are [over 500 columns](http://skyserver.sdss.org/dr12/en/help/browser/browser.aspx#&&history=description+PhotoObjAll+U) to choose from in  `PhotoObjAll`. Fortunately, we are only interested in a few columns for point sources. Obviously, we want to know the `ra` and `dec`, as well as the brightness in each of the $ugriz$ filters, `psfMag_u, psfMag_g, psfMag_r, psfMag_i, psfMag_z`, as well as the uncertainty on each of those brightness measurements (look up the name for these columns).  \n",
    "\n",
    "Another (potentially) confusing, but nevertheless very important, aspect of SDSS data is the large number of flags that are tabulated for each source. SDSS flags are typically reported via bitmasks. [Working with the bitmasks can be complicated](http://www.sdss.org/dr12/tutorials/flags/), but fortunately, SDSS provides a `clean` flag that essentially filters out all unreliable source detections. Thus, we will require all the queries we make to have the clause `clean = 1` to include only good source detections. \n",
    "\n",
    "While the tables are large, and the flags can be difficult to navigate, one (amazing) aspect of the SDSS database is that they provide several convenience functions for the user, commands that begin `dbo`, in order to simplify the process of getting the data you need. One of the most useful functions, `dbo.fGetNearbyObjEq`, allows a [quick cross-match to access sources within some small radius](http://www.sdss.org/dr12/tutorials/getdata/#FindbyPosition). (Click on the previous link, and read point 5 to see an example query with this function.)"
   ]
  },
  {
   "cell_type": "markdown",
   "metadata": {},
   "source": [
    "**Problem A1** Query the SDSS database (using astroquery within python) to find the colors of our favorite star, which is located at $\\alpha_\\mathrm{J2000}, \\delta_\\mathrm{J2000} = (312.503802, -0.706603)$. [You will have to complete the query below, note - the results are returned as an astropy table]\n",
    "\n",
    "Note that the radius is in units of arcmin. Choose a radius that only returns only our favorite star.\n",
    "*Hint - you will want both the magnitude measurements and the uncertainties on those measurements.*"
   ]
  },
  {
   "cell_type": "code",
   "execution_count": null,
   "metadata": {
    "collapsed": true
   },
   "outputs": [],
   "source": [
    "# complete the code below\n",
    "from astroquery.sdss import SDSS\n",
    "favSTARquery = \"\"\"SELECT p.objid, p.ra, p.dec, p.psfMag_u, # [MORE THINGS FOR YOU TO INSERT HERE] \n",
    "                  FROM PhotoTag AS p , dbo.fGetNearbyObjEq(# RA, DEC, RADIUS) AS n\n",
    "                  WHERE n.objID = p.objID\n",
    "               \"\"\"\n",
    "res = SDSS.query_sql(favSTARquery)\n",
    "res"
   ]
  },
  {
   "cell_type": "markdown",
   "metadata": {},
   "source": [
    "**Problem A2** Using the results from the SDSS query, determine $u - g$ and $g - r$ colors of our favorite star."
   ]
  },
  {
   "cell_type": "code",
   "execution_count": null,
   "metadata": {
    "collapsed": true
   },
   "outputs": [],
   "source": [
    "# determine the u - g and the g - r colors of our star\n",
    "ug = \n",
    "gr = "
   ]
  },
  {
   "cell_type": "markdown",
   "metadata": {},
   "source": [
    "**Problem A3** Notice that the SDSS position and the PTF position do not match. Calculate the distance between these two sources to ensure that you have the correct star. \n",
    "\n",
    "*Hint - make sure the distance is in arcsec.*"
   ]
  },
  {
   "cell_type": "code",
   "execution_count": null,
   "metadata": {
    "collapsed": true
   },
   "outputs": [],
   "source": [
    "import astropy.coordinates as coords\n",
    "\n",
    "PTFcoords  = coords.SkyCoord(312.503802, -0.706603, frame='icrs',unit='deg')\n",
    "SDSScoords = coords.SkyCoord(\n",
    "\n",
    "dist = PTFcoords.separation(SDSScoords)\n",
    "\n",
    "print 'The angular separation is %4.2f arcsec' % (dist.arcsec)"
   ]
  },
  {
   "cell_type": "markdown",
   "metadata": {},
   "source": [
    "We will discuss the full specifications for selecting RRL below. But, one of the criteria stated in Sesar et al. 2007 is that: \n",
    "$$ 0.98 < (u - g) < 1.30 $$\n",
    "\n",
    "**Problem A4** Based on this criterion, would you consider out favorite star an RRL candidate?"
   ]
  },
  {
   "cell_type": "markdown",
   "metadata": {},
   "source": [
    "*type your answer in this markdown cell*"
   ]
  },
  {
   "cell_type": "markdown",
   "metadata": {},
   "source": [
    "###Part B) Correcting the colors\n",
    "\n",
    "The initial query performed above allowed us to access SDSS data on a single star. However, the information we received was a little difficult to manage (it extends beyond the length of the notebook), it did not directly include the colors for the star (we had to calculate that in python), and, of course, it was only one star (we want to search for many RRL candidates, and it would be silly to do this one star at a time). We will now build some more complicated queries to fetch all the data that we need. \n",
    "\n",
    "**Unsurprising news flash** - our favorite star is in fact an RRL. Is it strange that our star is outside the color range where RRL are typically found? [take a second to think about this]\n",
    "\n",
    "Ultimately, no, this is not strange, because the above query *neglects the effects of interstellar reddenning*. The presence of dust in the ISM between the Earth and astronomically observed sources, causes the *observed colors* of a particular source to be different from the *intrinsic colors* of that source. Thus, to adequately compare different sources, reddening corrections must be applied. Fortunately, SDSS has already computed these corrections and they are stored in the `extinction_u, extinction_g` etc. columns in `PhotoObjAll`. Moving forward, we will correct all color measurements using these values. \n",
    "\n",
    "Furthermore, SQL has a nice feature where the user can define the output of the query in terms of different columns in a given table. For instance, if we wanted to know the average airmass of a source at the time of SDSS observations (note that the filtered observations are not taken simultaneously; also note - this is a somewhat silly thing to want to know), we could query for a user defined variable in the following way:\n",
    "\n",
    "    SELECT (airmass_u + airmass_g + airmass_r + airmass_i + airmass_z)/5 as airmassAvg \n",
    "    ...\n",
    "\n",
    "Thus, instead out grabbing five different columns, and reading that data into `Python` before taking the average, that operation can be entirely performed within SQL so that only the desired information is retrieved. \n",
    "\n",
    "**Problem B1** Starting from the example of your initial query, write an improved query that selects the *de-reddened* $u - g, g - r, g - i, g - z$ colors from SDSS for our favorite star. \n",
    "\n",
    "*Hint - be careful about how you apply the reddening correction, the additions and subtractions can be confusing.*"
   ]
  },
  {
   "cell_type": "code",
   "execution_count": null,
   "metadata": {
    "collapsed": true
   },
   "outputs": [],
   "source": [
    "# complete the code below\n",
    "dered_query = \"\"\"SELECT p.objid, p.ra, p.dec, \n",
    "                        [MORE THINGS FOR YOU TO INSERT HERE] as dered_ug, \n",
    "                        [MORE THINGS FOR YOU TO INSERT HERE] as dered_gr,\n",
    "                        [MORE THINGS FOR YOU TO INSERT HERE] \n",
    "                        [MORE THINGS FOR YOU TO INSERT HERE]\n",
    "                  FROM PhotoTag AS p , dbo.fGetNearbyObjEq(# RA, DEC, RADIUS) AS n\n",
    "                  WHERE n.objID = p.objID\n",
    "               \"\"\"\n",
    "res = SDSS.query_sql(dered_query)\n",
    "res"
   ]
  },
  {
   "cell_type": "markdown",
   "metadata": {},
   "source": [
    "**Problem B2** Using the results from the SDSS query, determine de-reddened colors, $(u - g)_0$ and $(g - r)_0$, colors of our favorite star."
   ]
  },
  {
   "cell_type": "code",
   "execution_count": null,
   "metadata": {
    "collapsed": true
   },
   "outputs": [],
   "source": [
    "# determine the de-reddened colors\n",
    "ug = \n",
    "gr = "
   ]
  },
  {
   "cell_type": "markdown",
   "metadata": {},
   "source": [
    "**Problem B3** Is $(u-g)_0$ now what you might expect for an RRL star? "
   ]
  },
  {
   "cell_type": "markdown",
   "metadata": {},
   "source": [
    "###Part C) Complex Queries: colors for all the stars\n",
    "\n",
    "The real power in SQL databases comes from the ability to write complex queries. Previously, we have not needed a complex query since we have utilized the SDSS database function to identify the source that matches our favorite star. Ultimately, we are interested in finding RRL candidates over the entire field that we have been studying. Thus, we will need to query the entire area of our PTF field [Field ID: 022683, CCD ID: 06] for the colors of stars (i.e. galaxies must be excluded). To do this we need a complex query, which allows multiple conditional statements for the `WHERE` portion of query. \n",
    "\n",
    "As a basic example of a complex query we could search for RRL candidates using the $u - g$ condition that was specified above (this example does not have the reddening correction):\n",
    "\n",
    "    SELECT p.objid, p.ra, p.dec, p.psfMag_u - p.psfMag_g as ug\n",
    "    FROM PhotoTag AS p\n",
    "    WHERE ug > 0.98 AND ug < 1.30\n",
    "\n",
    "The use of `AND` after the `WHERE` statement is what makes this a complex query. More conditions can be added to the query with additional `AND`s. The above query can be made far more efficient with the `BETWEEN` condition (note - this condition can be particularly useful when searching for sources via their positions): \n",
    "\n",
    "    SELECT p.objid, p.ra, p.dec, p.psfMag_u - p.psfMag_g as ug\n",
    "    FROM PhotoTag AS p\n",
    "    WHERE ug BETWEEN 0.98 AND 1.30\n",
    "\n",
    "Both of the above examples return the same results but the latter query runs much faster.\n",
    "\n",
    "**Problem C1** Determine the boundaries of the PTF field, so we can fetch the SDSS colors of all the stars in this field. [Note - there are several ways you can go about this]"
   ]
  },
  {
   "cell_type": "code",
   "execution_count": null,
   "metadata": {
    "collapsed": true
   },
   "outputs": [],
   "source": [
    "# determine the boundaries of our PTF field\n",
    "ra1 = \n",
    "ra2 = \n",
    "dec1 = \n",
    "dec2 = "
   ]
  },
  {
   "cell_type": "markdown",
   "metadata": {},
   "source": [
    "**Problem C2** Write a complex query that returns the *de-reddened* colors of all the *stars* in our PTF field. Note that we only want photometry for sources that have reliable measurements, so one of your conditional statements should include the `clean` column. There are many different ways to write this query (including an SDSS database function, or the examples given above), if you have extra time try to figure out which query is the fastest.\n",
    "\n",
    "  *Hint 1 - how can you be sure that you are only selecting stars in your query?* \n",
    "\n",
    "  *Hint 2 - if your query has fewer than ~5k sources, or more than ~20k sources, then something about your conditional statements is incorrect.*"
   ]
  },
  {
   "cell_type": "code",
   "execution_count": null,
   "metadata": {
    "collapsed": true
   },
   "outputs": [],
   "source": [
    "# complete the code below\n",
    "colors_query = \"\"\"SELECT p.objid, p.ra, p.dec, \n",
    "                        [MORE THINGS FOR YOU TO INSERT HERE]  \n",
    "                        .\n",
    "                        .\n",
    "                        .\n",
    "                  FROM PhotoTag AS p \n",
    "                  WHERE [COND1] AND [COND2] AND ...\n",
    "               \"\"\"\n",
    "colors_res = SDSS.query_sql(colors_query)\n",
    "colors_res"
   ]
  },
  {
   "cell_type": "markdown",
   "metadata": {},
   "source": [
    "**Problem C3** Save the astropy Table from your query into a comma separated value (csv) file titled \"data/PTF_d022683_f02_c06_SDSS_colors.csv\". We will need this file for the remainding hands-on sessions."
   ]
  },
  {
   "cell_type": "code",
   "execution_count": null,
   "metadata": {
    "collapsed": true
   },
   "outputs": [],
   "source": [
    "colors_res.write("
   ]
  },
  {
   "cell_type": "markdown",
   "metadata": {},
   "source": [
    "##Problem 2) Identify RRL candidates\n"
   ]
  },
  {
   "cell_type": "markdown",
   "metadata": {},
   "source": [
    "### References\n",
    "\n",
    "-  [1] Sesar, B. et al. [2007, ApJ, 134, 2236](http://adsabs.harvard.edu/abs/2007AJ....134.2236S)"
   ]
  },
  {
   "cell_type": "code",
   "execution_count": null,
   "metadata": {
    "collapsed": true
   },
   "outputs": [],
   "source": []
  }
 ],
 "metadata": {
  "kernelspec": {
   "display_name": "Python 2",
   "language": "python",
   "name": "python2"
  },
  "language_info": {
   "codemirror_mode": {
    "name": "ipython",
    "version": 2
   },
   "file_extension": ".py",
   "mimetype": "text/x-python",
   "name": "python",
   "nbconvert_exporter": "python",
   "pygments_lexer": "ipython2",
   "version": "2.7.9"
  }
 },
 "nbformat": 4,
 "nbformat_minor": 0
}

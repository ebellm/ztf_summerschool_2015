{
 "cells": [
  {
   "cell_type": "code",
   "execution_count": 1,
   "metadata": {
    "collapsed": true
   },
   "outputs": [],
   "source": [
    "import numpy as np\n",
    "import astropy.io.fits as fits\n",
    "import astropy.coordinates as coords\n",
    "import astropy.units as u\n",
    "from astropy.time import Time\n",
    "from glob import glob\n",
    "import matplotlib.pyplot as plt\n",
    "import shelve, pickle\n",
    "import time\n",
    "%matplotlib inline"
   ]
  },
  {
   "cell_type": "markdown",
   "metadata": {},
   "source": [
    "#Hands-On Exercise 4:\n",
    "Finding RR Lyrae Candidates Using SDSS Photometric Colors\n",
    "========\n",
    "\n",
    "#####Version 0.1\n",
    "\n",
    "\n",
    "As we learned earlier today, RR Lyrae stars (RRL) are a particularly interesting class of variable stars (see the talk by B. Sesar). In particular, RRL are pulsating variables (PVs) that can be used as standard(izable) candles. As RRL are relatively luminous, they can be used to measured distances in the outskirts of the Milky Way halo, and in some cases even measure the distances to other galaxies. Thus, RRL are some of the best studied variable stars, and the goal of this exercise is to identify RRL candidates from SDSS data. \n",
    "\n",
    "In addition to identifying RRL, we will work on writing SQL queries and cross-matching sources between different data sets.\n",
    "\n",
    "***\n",
    "By AA Miller (c) 2014 Aug 22"
   ]
  },
  {
   "cell_type": "markdown",
   "metadata": {},
   "source": [
    "Problem 1) Download SDSS data\n",
    "--\n",
    "\n",
    "The first step to search for candidates will be accessing the data from the SDSS archive. We will do this via the [SDSS web-based SQL interface](http://skyserver.sdss.org/dr12/en/tools/search/sql.aspx). Take a moment to click over to that website and see the format for writing SQL queries. Note that the default query provided as an example uses data from both the `PhotoObjAll` table and the `SpecObjAll` table, so that photometric and spectroscopic information can be accessed, respectively. We will only be accessing photometric data today, so you will not need to worry about writing queries with `JOIN`s. Finally, for completeness, note that should you need to write complex SDSS queries in the future, it is best to use [CasJobs](http://skyserver.sdss.org/casjobs/). \n",
    "\n",
    "#####Part A) Make an SDSS query\n",
    "\n",
    "We will begin with a simple SDSS query to identify the colors of our favorite star (see Hands-on session 1). SDSS tables can be a little intimidating: there are [over 500 columns](http://skyserver.sdss.org/dr12/en/help/browser/browser.aspx#&&history=description+PhotoObjAll+U) to choose from in  `PhotoObjAll`. Fortunately, we are only interested in a few columns for point sources. Obviously, we want to know the `ra` and `dec`, as well as the brightness in each of the $ugriz$ filters, `psfMag_u, psfMag_g, psfMag_r, psfMag_i, psfMag_z`, as well as the uncertainty on each of those brightness measurements (look up the name for these columns).  \n",
    "\n",
    "Another (potentially) confusing, but nevertheless very important, aspect of SDSS data is the large number of flags that are tabulated for each source. SDSS flags are typically reported via bitmasks. [Working with the bitmasks can be complicated](http://www.sdss.org/dr12/tutorials/flags/), but fortunately, SDSS provides a `clean` flag that essentially filters out all unreliable source detections. Thus, we will require all the queries we make to have the clause `clean = 1` to include only good source detections. \n",
    "\n",
    "While the tables are large, and the flags can be difficult to navigate, one (amazing) aspect of the SDSS database is that they provide several convenience functions for the user, commands that begin `dbo`, in order to simplify the process of getting the data you need. One of the most useful functions, `dbo.fGetNearbyObjEq`, allows a [quick cross-match to access sources within some small radius](http://www.sdss.org/dr12/tutorials/getdata/#FindbyPosition). (Click on the previous link, and read point 5 to see an example query with this function.)\n",
    "\n",
    "Now we will start our first query. Query the SDSS database (use the web interface linked above) to find the colors of our favorite star, which is located at $\\alpha_\\mathrm{J2000}, \\delta_\\mathrm{J2000} = (312.503802, -0.706603)$. [You will have to complete the query below, note - it is best to have the webservice return the results in csv format]"
   ]
  },
  {
   "cell_type": "markdown",
   "metadata": {},
   "source": [
    "    SELECT p.objid, p.ra, p.dec, p.psfMag_u, [MORE THINGS FOR YOU TO INSERT HERE] \n",
    "    FROM PhotoTag AS p , dbo.fGetNearbyObjEq([INSERT RA, DEC, AND A REASONABLE SEARCH RADIUS]) AS n\n",
    "    WHERE n.objID = p.objID`\n",
    "\n",
    "Note that the radius is in units of arcmin. Choose a radius that only returns only our favorite star.\n",
    "\n",
    "*Hint - you will want both the magnitude measurements and the uncertainties on those measurements.*"
   ]
  },
  {
   "cell_type": "markdown",
   "metadata": {},
   "source": [
    "Copy the output from your query here:\n",
    "#Table1\n",
    "objid,ra,dec,psfMag_u,psfMag_g,psfMag_r,psfMag_i,psfMag_z,psfMagErr_u,psfMagErr_g,psfMagErr_r,psfMagErr_i,psfMagErr_z\n",
    "1237656567575216739,312.503884557713,-0.706557061939951,19.32175,18.01245,17.86588,17.85665,17.78855,0.02947532,0.01867832,0.01443834,0.01348575,0.02135261"
   ]
  },
  {
   "cell_type": "code",
   "execution_count": null,
   "metadata": {
    "collapsed": true
   },
   "outputs": [],
   "source": [
    "# determine the u - g and the g - r colors of our star\n",
    "ug = \n",
    "gr = "
   ]
  },
  {
   "cell_type": "markdown",
   "metadata": {},
   "source": [
    "Notice that the SDSS position and the PTF position do not match. Calculate the distance between these two sources to ensure that you have the correct star. \n",
    "\n",
    "*Hint - make sure the distance is in arcsec.*"
   ]
  },
  {
   "cell_type": "code",
   "execution_count": null,
   "metadata": {
    "collapsed": true
   },
   "outputs": [],
   "source": [
    "# notice that the SDSS position and the PTF position do not match\n",
    "ra, dec  = coords.SkyCoord(312.318738, −0.966752, frame='icrs',unit='deg')\n",
    "SDSSra, SDSSdec = coords.SkyCoord(\n",
    "\n",
    "dist = \n",
    "print 'The angular separation is %4.2f arcsec' % (dist)"
   ]
  },
  {
   "cell_type": "markdown",
   "metadata": {},
   "source": [
    "We will discuss the full specifications for selecting RRL below. But, one of the criteria stated in Sesar et al. 2007 is that: \n",
    "$$ 0.98 < (u - g) < 1.30 $$\n",
    "Based on this criterion, would you consider out favorite star an RRL candidate?\n",
    "\n",
    "Your answer: *type it in here*"
   ]
  },
  {
   "cell_type": "markdown",
   "metadata": {},
   "source": [
    "#####Part B) Correcting the colors\n",
    "\n",
    "The initial query performed above allowed us to access SDSS data on a single star. However, the information we received was a little difficult to manage (it extends beyond the length of the notebook), it did not directly include the colors for the star (we had to calculate that in python), and, of course, it was only one star (we want to search for many RRL candidates, and it would be silly to do this one star at a time). We will now build some more complicated queries in order to get all the data that we need. \n",
    "\n",
    "**Unsurprising news flash** - our favorite star is in fact an RRL. Is it strange that our star is outside the color range where RRL are typically found? [take a second to think about this]\n",
    "\n",
    "Ultimately, no, this is not that strange, because the above query *neglects the effects of interstellar reddenning*. The presence of dust in the ISM between the Earth and astronomically observed sources, causes the *observed colors* of a particular source to be different from the *intrinsic colors* of that source. Thus, to adequately compare different sources, reddening corrections must be applied. Fortunately, SDSS has already computed these corrections and they are stored in the `extinction_u, extinction_g` etc. columns in `PhotoObjAll`. Moving forward, we will correct all color measurements using these values. \n",
    "\n",
    "Furthermore, SQL has a nice feature where the user can define the output of the query in terms of different columns in a given table. For instance, if we wanted to know the average airmass of a source at the time of SDSS observations (note that the filtered observations are not taken simultaneously; also note - this is a somewhat silly thing to want to know), we could query for a user defined variable in the following way:\n",
    "\n",
    "    SELECT (airmass_u + airmass_u + airmass_u + airmass_u + airmass_u)/5 as airmassAvg \n",
    "    ...\n",
    "\n",
    "Thus, instead out grabbing five different columns, and reading that data into `Python` before taking the average, that operation can be entirely performed within SQL so that only the desired information is retrieved. \n",
    "\n",
    "Starting from the example of your initial query, write an improved query that selects the *de-reddened* $u - g, g - r, g - i, g - z$ colors from SDSS for our favorite star. "
   ]
  },
  {
   "cell_type": "markdown",
   "metadata": {},
   "source": [
    "    SELECT p.objid, p.ra, p.dec, \n",
    "    [MORE THINGS FOR YOU TO INSERT HERE] as dered_ug, \n",
    "    [MORE THINGS FOR YOU TO INSERT HERE] as dered_gr,\n",
    "    [MORE THINGS FOR YOU TO INSERT HERE] \n",
    "    [MORE THINGS FOR YOU TO INSERT HERE]\n",
    "    FROM PhotoTag AS p , dbo.fGetNearbyObjEq([INSERT RA, DEC, AND A REASONABLE SEARCH RADIUS]) AS n\n",
    "    WHERE n.objID = p.objID\n",
    "\n",
    "*Hint - be careful about how you apply the reddening correction, the additions and subtractions can be confusing.*"
   ]
  },
  {
   "cell_type": "markdown",
   "metadata": {},
   "source": [
    "Copy the output from your query here:\n",
    "#Table1\n",
    "objid,ra,dec,dered_ug,dered_gr,dered_gi,dered_gz\n",
    "1237656567575216739,312.503884557713,-0.706557061939951,1.193649,0.05808526,0.01084545,0.02739729"
   ]
  },
  {
   "cell_type": "code",
   "execution_count": null,
   "metadata": {
    "collapsed": true
   },
   "outputs": [],
   "source": [
    "# determine the u - g and the g - r colors of our star\n",
    "ug = \n",
    "gr = "
   ]
  },
  {
   "cell_type": "markdown",
   "metadata": {},
   "source": [
    "Is $(u-g)_0$ now what you might expect for this star? "
   ]
  },
  {
   "cell_type": "markdown",
   "metadata": {},
   "source": [
    "#####Part C) Complex Queries: colors for all the stars\n",
    "\n",
    "The real power in SQL databases comes from the ability to write complex queries. Previously, we have not needed a complex query since we have utilized the SDSS database function to identify the source that matches our favorite star. Ultimately, we are interested in finding RRL candidates over the entire field that we have been studying. Thus, we will need to query the entire area of our PTF field [Field ID: 022683, CCD ID: 06] for the colors of stars (i.e. galaxies must be excluded). To do this we need a complex query, which allows multiple conditional statements for the `WHERE` portion of query. \n",
    "\n",
    "As a basic example of a complex query we could search for RRL candidates using the $u - g$ condition that was specified above (this example does not have the reddening correction):\n",
    "\n",
    "    SELECT p.objid, p.ra, p.dec, p.psfMag_u - p.psfMag_g as ug\n",
    "    FROM PhotoTag AS p\n",
    "    WHERE ug > 0.98 AND ug < 1.30\n",
    "\n",
    "The use of `AND` after the `WHERE` statement is what makes this a complex query. More conditions can be added to the query with additional `AND`s. The above query can be made far more efficient with the `BETWEEN` condition (note - this condition can be particularly useful when searching for sources via their positions): \n",
    "\n",
    "    SELECT p.objid, p.ra, p.dec, p.psfMag_u - p.psfMag_g as ug\n",
    "    FROM PhotoTag AS p\n",
    "    WHERE ug BETWEEN 0.98 AND 1.30\n",
    "\n",
    "Both of the above examples return the same results but the latter query runs much faster.\n",
    "\n",
    "Now, to get the colors of each of the stars in our field, the boundaries of the field must be determined. [Note - there are several ways you can go about this]"
   ]
  },
  {
   "cell_type": "code",
   "execution_count": null,
   "metadata": {
    "collapsed": true
   },
   "outputs": [],
   "source": [
    "# determine the boundaries of our PTF field\n",
    "ra1 = \n",
    "ra2 = \n",
    "dec1 = \n",
    "dec2 = "
   ]
  },
  {
   "cell_type": "markdown",
   "metadata": {},
   "source": [
    "With the area of our field of interest in hand, write a complex query that returns the *dereddened* colors of all the *stars* in our PTF field. Note that we only want photometry for sources that have reliable measurements, so one of your conditional statements should include the `clean` column. There are many different ways to write this query (including an SDSS database function, or the examples given above), if you have extra time try to figure out which query is the fastest.\n",
    "\n",
    "    SELECT p.objid, p.ra, p.dec, \n",
    "    [MORE THINGS FOR YOU TO INSERT HERE] \n",
    "    .\n",
    "    .\n",
    "    .\n",
    "    FROM PhotoTag AS p \n",
    "    WHERE [COND1] AND [COND2] AND ...\n",
    "\n",
    "*Hint - if your query has fewer than ~5k sources, or more than ~20k sources, then something about your conditional statements is incorrect.*"
   ]
  },
  {
   "cell_type": "markdown",
   "metadata": {},
   "source": [
    "Save the output CSV file from your query into a text document titled \"data/PTF_d022683_f02_c06_SDSS_colors.csv\". This, and the remaining hands-on sessions will require information from this file, so do be sure to save this output."
   ]
  },
  {
   "cell_type": "markdown",
   "metadata": {},
   "source": [
    "Problem 2) Identify RRL candidates\n",
    "--"
   ]
  },
  {
   "cell_type": "markdown",
   "metadata": {},
   "source": [
    "### References\n",
    "\n",
    "\n",
    "-  [1] Sesar, B. et al. [2007, ApJ, 134, 2236](http://adsabs.harvard.edu/abs/2007AJ....134.2236S)"
   ]
  }
 ],
 "metadata": {
  "kernelspec": {
   "display_name": "Python 2",
   "language": "python",
   "name": "python2"
  },
  "language_info": {
   "codemirror_mode": {
    "name": "ipython",
    "version": 2
   },
   "file_extension": ".py",
   "mimetype": "text/x-python",
   "name": "python",
   "nbconvert_exporter": "python",
   "pygments_lexer": "ipython2",
   "version": "2.7.9"
  }
 },
 "nbformat": 4,
 "nbformat_minor": 0
}

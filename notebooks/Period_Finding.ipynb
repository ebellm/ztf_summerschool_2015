{
 "cells": [
  {
   "cell_type": "code",
   "execution_count": 1,
   "metadata": {
    "collapsed": false
   },
   "outputs": [],
   "source": [
    "# imports\n",
    "import numpy as np\n",
    "import matplotlib.pyplot as plt\n",
    "from astroML.time_series import \\\n",
    "    lomb_scargle, lomb_scargle_bootstrap\n",
    "%matplotlib inline"
   ]
  },
  {
   "cell_type": "markdown",
   "metadata": {},
   "source": [
    "#Hands-On Exercise 3:\n",
    "Period Finding\n",
    "========\n",
    "One of the fundamental tasks of time-domain astronomy is determining if a source is periodic, and if so, measuring the period.  Period measurements are a vital first step for more detailed scientific study, which may include source classification (e.g., RR Lyrae, W Uma), lightcurve modeling (binaries), or luminosity estimation (Cepheids).\n",
    "\n",
    "Binary stars in particular have lightcurves which may show a wide variety of shapes, depending on the nature of the stars and the system geometry.\n",
    "\n",
    "In this workbook we will develop a basic toolset for the generic problem of finding periodic sources.\n",
    "\n",
    "***\n",
    "by Eric Bellm (2014-2015)"
   ]
  },
  {
   "cell_type": "markdown",
   "metadata": {},
   "source": [
    "Let's use the relative-photometry corrected light curves we built in Excercise 2. We'll use the utility function `source_lightcurve` to load the columns MJD, magnitude, and magnitude error.  Note that we will use days as our time coordinate throughout the homework."
   ]
  },
  {
   "cell_type": "code",
   "execution_count": 2,
   "metadata": {
    "collapsed": true
   },
   "outputs": [],
   "source": [
    "# point to our previously-saved data\n",
    "from ztf_summerschool import source_lightcurve\n",
    "reference_catalog = '../data/PTF_Refims_Files/PTF_d022683_f02_c06_u000114210_p12_sexcat.ctlg'\n",
    "outfile = reference_catalog.split('/')[-1].replace('ctlg','shlv')"
   ]
  },
  {
   "cell_type": "markdown",
   "metadata": {},
   "source": [
    "We'll start by loading the data from our favorite star, which has coordinates $\\alpha_\\mathrm{J2000}, \\delta_\\mathrm{J2000} = (312.503802, -0.706603)$."
   ]
  },
  {
   "cell_type": "code",
   "execution_count": 6,
   "metadata": {
    "collapsed": false
   },
   "outputs": [],
   "source": [
    "ra_fav, dec_fav = (312.503802, -0.706603)\n",
    "mjds, mags, magerrs = source_lightcurve('../data/'+outfile, ra_fav, dec_fav)"
   ]
  },
  {
   "cell_type": "markdown",
   "metadata": {},
   "source": [
    "## Exercise 1\n",
    "\n",
    "Complete this function for plotting the lightcurve:\n"
   ]
  },
  {
   "cell_type": "code",
   "execution_count": 11,
   "metadata": {
    "collapsed": false
   },
   "outputs": [],
   "source": [
    "# define plot function\n",
    "def plot_data(# COMPLETE THIS LINE\n",
    "    plt.errorbar( # COMPLETE THIS LINE\n",
    "        color=color, fmt = '_', capsize=0)\n",
    "    plt.xlabel('Date (MJD)')\n",
    "    plt.ylabel('Magnitude')"
   ]
  },
  {
   "cell_type": "code",
   "execution_count": 13,
   "metadata": {
    "collapsed": false
   },
   "outputs": [
    {
     "data": {
      "image/png": "[encoded data removed]",
      "text/plain": [
       "<matplotlib.figure.Figure at 0x10a1f6e10>"
      ]
     },
     "metadata": {},
     "output_type": "display_data"
    }
   ],
   "source": [
    "# run plot function\n",
    "plot_data(mjds, mags, magerrs)"
   ]
  },
  {
   "cell_type": "markdown",
   "metadata": {},
   "source": [
    "## The Lomb Scargle Periodogram\n",
    "\n",
    "The [Lomb-Scarge Periodogram](http://adsabs.harvard.edu/abs/1982ApJ...263..835S) provides a method for searching for periodicities in time-series data.  It is comparable to the discrete Fourier Transform, but may be applied to irregularly sampled data.  The periodogram gives as output the relative significance of a least-squares sinusoidal fit to the data as a function of frequency.\n",
    "\n",
    "Much of this presentation follows Ch. 10 of [Ivezic et al.](http://press.princeton.edu/titles/10159.html)\n",
    "\n",
    "We use the \"[generalized](http://adsabs.harvard.edu/abs/2009A%26A...496..577Z)\" LS version implemented in astroML rather than the \"standard\" version implemented in scipy: the generalized version accounts correctly for error bars that differ from point to point."
   ]
  },
  {
   "cell_type": "code",
   "execution_count": null,
   "metadata": {
    "collapsed": false,
    "scrolled": true
   },
   "outputs": [],
   "source": [
    "# documentation for the lomb_scargle function\n",
    "help(lomb_scargle)"
   ]
  },
  {
   "cell_type": "markdown",
   "metadata": {},
   "source": [
    "## Exercise 2\n",
    "\n",
    "Complete this function to generate the frequency bins at which to evaluate the LS periodogram.\n",
    "\n",
    "The minimum frequency should be 2 pi / (t_max - t_min).\n",
    "\n",
    "Choosing the maximum frequency is more complicated (see Ivezic et al. 10.3.2).  Let's use pi / dt, where dt = median(time between observations).\n",
    "\n",
    "Generate a linear grid of frequencies with `np.linspace` using bins of 0.1 dt.\n"
   ]
  },
  {
   "cell_type": "code",
   "execution_count": null,
   "metadata": {
    "collapsed": false
   },
   "outputs": [],
   "source": [
    "# define frequency function\n",
    "def frequency_grid(times):\n",
    "    freq_min = # COMPLETE\n",
    "    freq_max = # COMPLETE\n",
    "    n_bins = # COMPLETE\n",
    "    return np.linspace(freq_min, freq_max, n_bins)"
   ]
  },
  {
   "cell_type": "code",
   "execution_count": 15,
   "metadata": {
    "collapsed": false
   },
   "outputs": [],
   "source": [
    "# run frequency function\n",
    "omegas = frequency_grid(data_R['epoch'])"
   ]
  },
  {
   "cell_type": "markdown",
   "metadata": {},
   "source": [
    "In some cases you'll want to generate the frequency grid by hand, either to extend to higher frequencies (shorter periods) than found by default, to avoid generating too many bins, or to get a more precise estimate of the period.  In that case use the following code:"
   ]
  },
  {
   "cell_type": "code",
   "execution_count": null,
   "metadata": {
    "collapsed": false
   },
   "outputs": [],
   "source": [
    "# provided alternate frequency function\n",
    "def alt_frequency_grid(Pmin, Pmax):\n",
    "    \"\"\"Generate an angular frequency grid between Pmin and Pmax (assumed to be in days)\"\"\"\n",
    "    freq_min = 2*np.pi / Pmin\n",
    "    freq_max = 2*np.pi / Pmax\n",
    "    return np.linspace(freq_min, freq_max, 5000)"
   ]
  },
  {
   "cell_type": "markdown",
   "metadata": {},
   "source": [
    "## Exercise 3\n",
    "\n",
    "Calculate the LS periodiogram and plot the power."
   ]
  },
  {
   "cell_type": "code",
   "execution_count": 18,
   "metadata": {
    "collapsed": false
   },
   "outputs": [
    {
     "data": {
      "text/plain": [
       "<matplotlib.text.Text at 0x10a37bdd0>"
      ]
     },
     "execution_count": 18,
     "metadata": {},
     "output_type": "execute_result"
    },
    {
     "data": {
      "image/png": "[encoded data removed]",
      "text/plain": [
       "<matplotlib.figure.Figure at 0x10a32dcd0>"
      ]
     },
     "metadata": {},
     "output_type": "display_data"
    }
   ],
   "source": [
    "# calculate and plot LS periodogram\n",
    "P_LS = lomb_scargle( # COMPLETE\n",
    "plt.plot(omegas, P_LS)\n",
    "plt.xlabel('$\\omega$')\n",
    "plt.ylabel('$P_{LS}$')"
   ]
  },
  {
   "cell_type": "code",
   "execution_count": 19,
   "metadata": {
    "collapsed": false
   },
   "outputs": [],
   "source": [
    "# provided: define function to find best period\n",
    "def LS_peak_to_period(omegas, P_LS):\n",
    "    \"\"\"find the highest peak in the LS periodogram and return the corresponding period.\"\"\"\n",
    "    max_freq = omegas[np.argmax(P_LS)]\n",
    "    return 2*np.pi/max_freq"
   ]
  },
  {
   "cell_type": "code",
   "execution_count": 20,
   "metadata": {
    "collapsed": false
   },
   "outputs": [
    {
     "name": "stdout",
     "output_type": "stream",
     "text": [
      "Best period: 13.6785413137 days\n"
     ]
    }
   ],
   "source": [
    "# run function to find best period\n",
    "best_period = LS_peak_to_period(omegas, P_LS)\n",
    "print \"Best period: {} days\".format(best_period)"
   ]
  },
  {
   "cell_type": "markdown",
   "metadata": {},
   "source": [
    "## Exercise 4\n",
    "Complete this function that returns the phase of an observation (in the range 0-1) given its period.  For simplicity set the zero of the phase to be the time of the initial observation.\n",
    "\n",
    "Hint: Consider the python modulus operator, `%`.\n",
    "\n",
    "Add a keyword that allows your function to have an optional user-settable time of zero phase, for use with multiple bands"
   ]
  },
  {
   "cell_type": "code",
   "execution_count": 21,
   "metadata": {
    "collapsed": false
   },
   "outputs": [],
   "source": [
    "# define function to phase lightcurves\n",
    "def phase(time, period, t0 = None):\n",
    "    \"\"\" Given an input array of times and a period, return the corresponding phase.\"\"\"\n",
    "    if t0 is None:\n",
    "        t0 = time[0]\n",
    "    return # COMPLETE"
   ]
  },
  {
   "cell_type": "markdown",
   "metadata": {},
   "source": [
    "## Exercise 5\n",
    "\n",
    "Plot the phased lightcurve at the best-fit period."
   ]
  },
  {
   "cell_type": "code",
   "execution_count": 22,
   "metadata": {
    "collapsed": false
   },
   "outputs": [],
   "source": [
    "# define function to plot phased lc\n",
    "def plot_phased_lc(data, period, t0=None, color='red'):\n",
    "    phases = phase(data['epoch'], period, t0=t0)\n",
    "    plt.errorbar(phases,data['mag'],yerr=data['magerr'],\n",
    "        color=color, fmt = '_', capsize=0)\n",
    "    plt.xlabel('Phase')\n",
    "    plt.ylabel('Magnitude')"
   ]
  },
  {
   "cell_type": "code",
   "execution_count": 23,
   "metadata": {
    "collapsed": false
   },
   "outputs": [
    {
     "data": {
      "image/png": "[encoded data removed]",
      "text/plain": [
       "<matplotlib.figure.Figure at 0x10a314cd0>"
      ]
     },
     "metadata": {},
     "output_type": "display_data"
    }
   ],
   "source": [
    "# run function to plot phased lc\n",
    "plot_phased_lc(data_R, best_period)\n",
    "# uncomment below to plot g-band data\n",
    "#plot_phased_lc(data_g, best_period, color='green')\n",
    "#set_mag_limits([data_R,data_g])"
   ]
  },
  {
   "cell_type": "markdown",
   "metadata": {},
   "source": [
    "## [Challenge] Exercise 6\n",
    "\n",
    "Calculate the chance probability of finding a LS peak higher than the observed value in random data observed at the specified intervals: use `lomb_scargle_bootstrap` and `np.percentile` to find the 95 and 99 percent significance levels and plot them over the LS power."
   ]
  },
  {
   "cell_type": "code",
   "execution_count": null,
   "metadata": {
    "collapsed": false
   },
   "outputs": [],
   "source": [
    "D = lomb_scargle_bootstrap(# COMPLETE\n",
    "sig99, sig95 = np.percentile(# COMPLETE\n",
    "plt.plot(omegas, P_LS)\n",
    "plt.plot([omegas[0],omegas[-1]], sig99*np.ones(2),'--')\n",
    "plt.plot([omegas[0],omegas[-1]], sig95*np.ones(2),'--')\n",
    "plt.xlabel('$\\omega$')\n",
    "plt.ylabel('$P_{LS}$')"
   ]
  },
  {
   "cell_type": "markdown",
   "metadata": {},
   "source": [
    "## [Challenge] Exercise 7\n",
    "\n",
    "Now try finding the periods of these sources with more complex light curves:\n",
    "\n",
    "* variableB \n",
    "* variableC (use `alt_frequency_grid`) \n",
    "* variableD (very hard with LS! use `alt_frequency_grid`)"
   ]
  },
  {
   "cell_type": "markdown",
   "metadata": {},
   "source": [
    "*Note on alternate algorithms*\n",
    "\n",
    "Lomb-Scargle is equivalent to fitting a sinusoid to the phased data, but many kinds of variable stars do not have phased lightcurves that are well-represented by a sinusoid.  Other algorithms, such as those that attempt to minimize the dispersion within phase bins over a grid of trial phases, may be more successful in such cases.  See [Graham et al (2013)](http://adsabs.harvard.edu/abs/2013MNRAS.434.3423G) for a review.  \n",
    "\n",
    "AstroML also includes [code](http://www.astroml.org/book_figures/chapter10/fig_LINEAR_LS.html) (see also `astroML.time_series.multiterm_periodogram`) for including multiple Fourier components in the fit, which can better fit arbitrary lightcurves.\n",
    "\n",
    "*Other effects to consider*\n",
    "\n",
    "Real data may have *aliases*--frequency components that appear because of the sampling of the data, such as once per night.  Bootstrap significance tests (and experience) can help rule these out.\n",
    "\n",
    "Many eclipsing binaries have primary and secondary eclipses, often with comparable depths.  The period found by LS (which fits a single sinusoid) will thus often be only half of the true period.  Plotting the phased lightcurve at double the LS period is often the easiest way to determine the true period. "
   ]
  },
  {
   "cell_type": "markdown",
   "metadata": {},
   "source": [
    "## References and Further Reading\n",
    "\n",
    "Scargle, J. 1982, [ApJ 263, 835](http://adsabs.harvard.edu/abs/1982ApJ...263..835S)\n",
    "\n",
    "Zechmeister, M., and Kürster, M. 2009, [A&A 496, 577](http://adsabs.harvard.edu/abs/2009A%26A...496..577Z)\n",
    "\n",
    "Graham, M. et al. 2013, [MNRAS 434, 3423](http://adsabs.harvard.edu/abs/2013MNRAS.434.3423G)\n",
    "\n",
    "[Statistics, Data Mining, and Machine Learning in Astronomy](http://press.princeton.edu/titles/10159.html) (Ivezic, Connolly, VanderPlas, & Gray)"
   ]
  }
 ],
 "metadata": {
  "kernelspec": {
   "display_name": "Python 2",
   "language": "python",
   "name": "python2"
  },
  "language_info": {
   "codemirror_mode": {
    "name": "ipython",
    "version": 2
   },
   "file_extension": ".py",
   "mimetype": "text/x-python",
   "name": "python",
   "nbconvert_exporter": "python",
   "pygments_lexer": "ipython2",
   "version": "2.7.10"
  }
 },
 "nbformat": 4,
 "nbformat_minor": 0
}

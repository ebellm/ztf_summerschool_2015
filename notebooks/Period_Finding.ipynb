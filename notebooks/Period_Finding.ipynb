{
 "cells": [
  {
   "cell_type": "code",
   "execution_count": 1,
   "metadata": {
    "collapsed": false
   },
   "outputs": [],
   "source": [
    "# imports\n",
    "import numpy as np\n",
    "import matplotlib.pyplot as plt\n",
    "import astropy.coordinates as coords\n",
    "import astropy.units as u\n",
    "from astropy.time import Time\n",
    "from astroML.time_series import \\\n",
    "    lomb_scargle, lomb_scargle_bootstrap\n",
    "\n",
    "from ztf_summerschool import source_lightcurve, barycenter_times\n",
    "%matplotlib inline"
   ]
  },
  {
   "cell_type": "markdown",
   "metadata": {},
   "source": [
    "#Hands-On Exercise 3:\n",
    "Period Finding\n",
    "========\n",
    "One of the fundamental tasks of time-domain astronomy is determining if a source is periodic, and if so, measuring the period.  Period measurements are a vital first step for more detailed scientific study, which may include source classification (e.g., RR Lyrae, W Uma), lightcurve modeling (binaries), or luminosity estimation (Cepheids).\n",
    "\n",
    "Binary stars in particular have lightcurves which may show a wide variety of shapes, depending on the nature of the stars and the system geometry.\n",
    "\n",
    "In this workbook we will develop a basic toolset for the generic problem of finding periodic sources.\n",
    "\n",
    "***\n",
    "by Eric Bellm (2014-2015)"
   ]
  },
  {
   "cell_type": "markdown",
   "metadata": {},
   "source": [
    "Let's use the relative-photometry corrected light curves we built in Exercise 2. We'll use the utility function `source_lightcurve` to load the columns MJD, magnitude, and magnitude error.  Note that we will use days as our time coordinate throughout the homework."
   ]
  },
  {
   "cell_type": "code",
   "execution_count": 4,
   "metadata": {
    "collapsed": true
   },
   "outputs": [],
   "source": [
    "# point to our previously-saved data\n",
    "reference_catalog = '../data/PTF_Refims_Files/PTF_d022683_f02_c06_u000114210_p12_sexcat.ctlg'\n",
    "outfile = reference_catalog.split('/')[-1].replace('ctlg','shlv')"
   ]
  },
  {
   "cell_type": "markdown",
   "metadata": {},
   "source": [
    "We'll start by loading the data from our favorite star, which has coordinates $\\alpha_\\mathrm{J2000}, \\delta_\\mathrm{J2000} = (312.503802, -0.706603)$."
   ]
  },
  {
   "cell_type": "code",
   "execution_count": 5,
   "metadata": {
    "collapsed": false
   },
   "outputs": [],
   "source": [
    "ra_fav, dec_fav = (312.503802, -0.706603)\n",
    "mjds, mags, magerrs = source_lightcurve('../data/'+outfile, ra_fav, dec_fav)"
   ]
  },
  {
   "cell_type": "markdown",
   "metadata": {},
   "source": [
    "## Exercise 0\n",
    "\n",
    "Our times are Modified Julian Date *on earth*.  We need to correct them for Earth's motion around the sun (this is called heliocentering or barycentering).  How big is the error if we do not make this correction?\n"
   ]
  },
  {
   "cell_type": "code",
   "execution_count": 4,
   "metadata": {
    "collapsed": false
   },
   "outputs": [
    {
     "data": {
      "text/latex": [
       "$8.3167464 \\; \\mathrm{min}$"
      ],
      "text/plain": [
       "<Quantity 8.316746397269274 min>"
      ]
     },
     "execution_count": 4,
     "metadata": {},
     "output_type": "execute_result"
    }
   ],
   "source": [
    "# CALCULATE AN ANSWER HERE\n",
    "import astropy.constants as const\n",
    "(const.au/const.c).to(u.min)"
   ]
  },
  {
   "cell_type": "markdown",
   "metadata": {},
   "source": [
    "We have provided a script to barycenter the data--note that it assumes that the data come from the P48.  Use the `bjds` variable through the remainder of this notebook."
   ]
  },
  {
   "cell_type": "code",
   "execution_count": 6,
   "metadata": {
    "collapsed": false
   },
   "outputs": [],
   "source": [
    "bjds = barycenter_times(mjds,ra_fav,dec_fav)"
   ]
  },
  {
   "cell_type": "markdown",
   "metadata": {},
   "source": [
    "*Optional exercise: plot a histogram of the time differences between the barycentered and non-barycentered data.*"
   ]
  },
  {
   "cell_type": "markdown",
   "metadata": {},
   "source": [
    "## Exercise 1\n",
    "\n",
    "Complete this function for plotting the lightcurve:\n"
   ]
  },
  {
   "cell_type": "code",
   "execution_count": 13,
   "metadata": {
    "collapsed": false
   },
   "outputs": [],
   "source": [
    "# define plot function\n",
    "def plot_data(mjd, mag, magerr): # COMPLETE THIS LINE\n",
    "    plt.errorbar(mjd, mag, yerr=magerr, # COMPLETE THIS LINE\n",
    "        fmt = '_', capsize=0)\n",
    "    plt.xlabel('Date (MJD)')\n",
    "    plt.ylabel('Magnitude')\n",
    "    plt.gca().invert_yaxis()"
   ]
  },
  {
   "cell_type": "code",
   "execution_count": 14,
   "metadata": {
    "collapsed": false
   },
   "outputs": [
    {
     "data": {
      "image/png": "[encoded data removed]",
      "text/plain": [
       "<matplotlib.figure.Figure at 0x10c77b090>"
      ]
     },
     "metadata": {},
     "output_type": "display_data"
    }
   ],
   "source": [
    "# run plot function\n",
    "plot_data(bjds, mags, magerrs)"
   ]
  },
  {
   "cell_type": "markdown",
   "metadata": {},
   "source": [
    "## The Lomb Scargle Periodogram\n",
    "\n",
    "The [Lomb-Scarge Periodogram](http://adsabs.harvard.edu/abs/1982ApJ...263..835S) provides a method for searching for periodicities in time-series data.  It is comparable to the discrete Fourier Transform, but may be applied to irregularly sampled data.  The periodogram gives as output the relative significance of a least-squares sinusoidal fit to the data as a function of frequency.\n",
    "\n",
    "Much of this presentation follows Ch. 10 of [Ivezic et al.](http://press.princeton.edu/titles/10159.html)\n",
    "\n",
    "We use the \"[generalized](http://adsabs.harvard.edu/abs/2009A%26A...496..577Z)\" LS version implemented in astroML rather than the \"standard\" version implemented in scipy: the generalized version accounts better for data sampled unevenly in phase"
   ]
  },
  {
   "cell_type": "code",
   "execution_count": null,
   "metadata": {
    "collapsed": false,
    "scrolled": true
   },
   "outputs": [],
   "source": [
    "# documentation for the lomb_scargle function\n",
    "help(lomb_scargle)"
   ]
  },
  {
   "cell_type": "markdown",
   "metadata": {},
   "source": [
    "## Exercise 2\n",
    "\n",
    "One of the challenges of using the LS periodogram is determining the appropriate frequency grid to search.  We have to select the minimum and maximum frequencies as well as the bin size.\n",
    "\n",
    "If we don't include the true frequency in our search range, we can't find the period!\n",
    "\n",
    "If the bins are too coarse, true peaks may be lost.  If the bins are too fine, the periodogram becomes very slow to compute.\n",
    "\n",
    "The first question to ask is what range of frequencies our data is sensitive to."
   ]
  },
  {
   "cell_type": "markdown",
   "metadata": {},
   "source": [
    "### Exercise 2.1\n",
    "\n",
    "What is the smallest angular frequency $\\omega_{\\rm min}$ our data is sensitive to?  (Hint: smallest frequency => largest time)"
   ]
  },
  {
   "cell_type": "code",
   "execution_count": 16,
   "metadata": {
    "collapsed": false
   },
   "outputs": [
    {
     "name": "stdout",
     "output_type": "stream",
     "text": [
      "The minimum frequency our data is sensitive to is 0.096 radian/days, corresponding to a period of 65.125 days\n"
     ]
    }
   ],
   "source": [
    "freq_min =  2*np.pi / (bjds[-1]-bjds[0]) # COMPLETE\n",
    "print 'The minimum frequency our data is sensitive to is {:.3f} radian/days, corresponding to a period of {:.3f} days'.format(freq_min, 2*np.pi/freq_min)"
   ]
  },
  {
   "cell_type": "markdown",
   "metadata": {},
   "source": [
    "### Exercise 2.2\n",
    "\n",
    "Determining the highest frequency we are sensitive to turns out to be complicated.  \n",
    "\n",
    "if $\\Delta t$ is the difference between consecutive observations,\n",
    "$\\pi$/median($\\Delta t$) is a good starting point, although in practice we may be sensitive to frequencies even higher than $2 \\pi$/min($\\Delta t$) depending on the details of the sampling.\n",
    "\n",
    "What is the largest angular frequency $\\omega_{\\rm max}$ our data is sensitive to?  "
   ]
  },
  {
   "cell_type": "code",
   "execution_count": 17,
   "metadata": {
    "collapsed": false
   },
   "outputs": [
    {
     "name": "stdout",
     "output_type": "stream",
     "text": [
      "The maximum frequency our data is sensitive to is APPROXIMATELY 81.179 radian/days, corresponding to a period of 0.077 days\n"
     ]
    }
   ],
   "source": [
    "freq_max = np.pi / np.median(bjds[1:]-bjds[:-1]) # COMPLETE\n",
    "print 'The maximum frequency our data is sensitive to is APPROXIMATELY {:.3f} radian/days, corresponding to a period of {:.3f} days'.format(freq_max, 2*np.pi/freq_max)"
   ]
  },
  {
   "cell_type": "markdown",
   "metadata": {},
   "source": [
    "### Exercise 2.3\n",
    "\n",
    "If we use bins of width $0.1 \\Delta t$, how many bins will be in our periodogram?  Is this computationally feasible?"
   ]
  },
  {
   "cell_type": "code",
   "execution_count": 18,
   "metadata": {
    "collapsed": false
   },
   "outputs": [
    {
     "name": "stdout",
     "output_type": "stream",
     "text": [
      "8414.0\n"
     ]
    }
   ],
   "source": [
    "n_bins =  np.floor(freq_max/freq_min * 10.) # COMPLETE\n",
    "print n_bins"
   ]
  },
  {
   "cell_type": "markdown",
   "metadata": {},
   "source": [
    "### Exercise 2.4\n",
    "\n",
    "Let's wrap this work up in a convenience function that takes as input a list of observation times and returns a frequency grid with decent defaults."
   ]
  },
  {
   "cell_type": "code",
   "execution_count": 19,
   "metadata": {
    "collapsed": false
   },
   "outputs": [],
   "source": [
    "# define frequency function\n",
    "def frequency_grid(times):\n",
    "    freq_min = 2*np.pi / (times[-1]-times[0]) # COMPLETE\n",
    "    freq_max = np.pi / np.median(times[1:]-times[:-1]) # COMPLETE\n",
    "    n_bins =  np.floor(freq_max/freq_min * 10.) # COMPLETE\n",
    "    print 'Using {} bins'.format(n_bins)\n",
    "    return np.linspace(freq_min, freq_max, n_bins)"
   ]
  },
  {
   "cell_type": "code",
   "execution_count": 20,
   "metadata": {
    "collapsed": false
   },
   "outputs": [
    {
     "name": "stdout",
     "output_type": "stream",
     "text": [
      "Using 8414.0 bins\n"
     ]
    }
   ],
   "source": [
    "# run frequency function\n",
    "omegas = frequency_grid(bjds)"
   ]
  },
  {
   "cell_type": "markdown",
   "metadata": {},
   "source": [
    "In some cases you'll want to generate the frequency grid by hand, either to extend to higher frequencies (shorter periods) than found by default, to avoid generating too many bins, or to get a more precise estimate of the period.  In that case use the following code:"
   ]
  },
  {
   "cell_type": "code",
   "execution_count": 21,
   "metadata": {
    "collapsed": false
   },
   "outputs": [],
   "source": [
    "# provided alternate frequency function\n",
    "def alt_frequency_grid(Pmin, Pmax):\n",
    "    \"\"\"Generate an angular frequency grid between Pmin and Pmax (assumed to be in days)\"\"\"\n",
    "    freq_min = 2*np.pi / Pmin\n",
    "    freq_max = 2*np.pi / Pmax\n",
    "    return np.linspace(freq_min, freq_max, 5000)"
   ]
  },
  {
   "cell_type": "code",
   "execution_count": 69,
   "metadata": {
    "collapsed": false
   },
   "outputs": [],
   "source": [
    "omegas = alt_frequency_grid(.4,.8)"
   ]
  },
  {
   "cell_type": "markdown",
   "metadata": {},
   "source": [
    "## Exercise 3\n",
    "\n",
    "Calculate the LS periodiogram and plot the power."
   ]
  },
  {
   "cell_type": "code",
   "execution_count": 22,
   "metadata": {
    "collapsed": false
   },
   "outputs": [
    {
     "data": {
      "text/plain": [
       "<matplotlib.text.Text at 0x10c6c1190>"
      ]
     },
     "execution_count": 22,
     "metadata": {},
     "output_type": "execute_result"
    },
    {
     "data": {
      "image/png": "[encoded data removed]",
      "text/plain": [
       "<matplotlib.figure.Figure at 0x10c7e94d0>"
      ]
     },
     "metadata": {},
     "output_type": "display_data"
    }
   ],
   "source": [
    "# calculate and plot LS periodogram\n",
    "P_LS = lomb_scargle(bjds, mags, magerrs, omegas) # COMPLETE\n",
    "plt.plot(omegas, P_LS)\n",
    "plt.xlabel('$\\omega$')\n",
    "plt.ylabel('$P_{LS}$')"
   ]
  },
  {
   "cell_type": "code",
   "execution_count": 23,
   "metadata": {
    "collapsed": false
   },
   "outputs": [],
   "source": [
    "# provided: define function to find best period\n",
    "def LS_peak_to_period(omegas, P_LS):\n",
    "    \"\"\"find the highest peak in the LS periodogram and return the corresponding period.\"\"\"\n",
    "    max_freq = omegas[np.argmax(P_LS)]\n",
    "    return 2*np.pi/max_freq"
   ]
  },
  {
   "cell_type": "code",
   "execution_count": 24,
   "metadata": {
    "collapsed": false
   },
   "outputs": [
    {
     "name": "stdout",
     "output_type": "stream",
     "text": [
      "Best period: 4.17880545808 days\n"
     ]
    }
   ],
   "source": [
    "# run function to find best period\n",
    "best_period = LS_peak_to_period(omegas, P_LS)\n",
    "print \"Best period: {} days\".format(best_period)"
   ]
  },
  {
   "cell_type": "markdown",
   "metadata": {},
   "source": [
    "## Exercise 4\n",
    "Complete this function that returns the phase of an observation (in the range 0-1) given its period.  For simplicity set the zero of the phase to be the time of the initial observation.\n",
    "\n",
    "Hint: Consider the python modulus operator, `%`.\n",
    "\n",
    "Add a keyword that allows your function to have an optional user-settable time of zero phase."
   ]
  },
  {
   "cell_type": "code",
   "execution_count": 25,
   "metadata": {
    "collapsed": false
   },
   "outputs": [],
   "source": [
    "# define function to phase lightcurves\n",
    "def phase(time, period, t0 = None):\n",
    "    \"\"\" Given an input array of times and a period, return the corresponding phase.\"\"\"\n",
    "    if t0 is None:\n",
    "        t0 = time[0]\n",
    "    return ((time - t0)/period) % 1 # COMPLETE"
   ]
  },
  {
   "cell_type": "markdown",
   "metadata": {},
   "source": [
    "## Exercise 5\n",
    "\n",
    "Plot the phased lightcurve at the best-fit period."
   ]
  },
  {
   "cell_type": "code",
   "execution_count": 26,
   "metadata": {
    "collapsed": false
   },
   "outputs": [],
   "source": [
    "# define function to plot phased lc\n",
    "def plot_phased_lc(mjds, mags, magerrs, period, t0=None):\n",
    "    phases = phase(mjds, period, t0=t0) # COMPLETE\n",
    "    plt.errorbar(phases,mags,yerr=magerrs, #COMPLETE\n",
    "        fmt = '_', capsize=0)\n",
    "    plt.xlabel('Phase')\n",
    "    plt.ylabel('Magnitude')\n",
    "    plt.gca().invert_yaxis()"
   ]
  },
  {
   "cell_type": "code",
   "execution_count": 27,
   "metadata": {
    "collapsed": false
   },
   "outputs": [
    {
     "data": {
      "image/png": "[encoded data removed]",
      "text/plain": [
       "<matplotlib.figure.Figure at 0x10c6c1590>"
      ]
     },
     "metadata": {},
     "output_type": "display_data"
    }
   ],
   "source": [
    "# run function to plot phased lc\n",
    "plot_phased_lc(bjds, mags, magerrs, best_period)"
   ]
  },
  {
   "cell_type": "markdown",
   "metadata": {
    "collapsed": false
   },
   "source": [
    "How does that look?  Do you think you have the right period?\n",
    "\n",
    "Try re-running your analysis using the `alt_frequency_grid` command, searching the 0.4 - 0.8 day period range."
   ]
  },
  {
   "cell_type": "code",
   "execution_count": 38,
   "metadata": {
    "collapsed": false
   },
   "outputs": [
    {
     "data": {
      "text/plain": [
       "<matplotlib.text.Text at 0x10ab92910>"
      ]
     },
     "execution_count": 38,
     "metadata": {},
     "output_type": "execute_result"
    },
    {
     "data": {
      "image/png": "[encoded data removed]",
      "text/plain": [
       "<matplotlib.figure.Figure at 0x10c8dda50>"
      ]
     },
     "metadata": {},
     "output_type": "display_data"
    }
   ],
   "source": [
    "omegas = alt_frequency_grid(.4,.8)\n",
    "P_LS = lomb_scargle(bjds, mags, magerrs, omegas)\n",
    "plt.plot(omegas, P_LS)\n",
    "plt.xlabel('$\\omega$')\n",
    "plt.ylabel('$P_{LS}$')"
   ]
  },
  {
   "cell_type": "code",
   "execution_count": 39,
   "metadata": {
    "collapsed": false
   },
   "outputs": [
    {
     "name": "stdout",
     "output_type": "stream",
     "text": [
      "Best period: 0.628409805154 days\n"
     ]
    },
    {
     "data": {
      "image/png": "[encoded data removed]",
      "text/plain": [
       "<matplotlib.figure.Figure at 0x10c6874d0>"
      ]
     },
     "metadata": {},
     "output_type": "display_data"
    }
   ],
   "source": [
    "best_period = LS_peak_to_period(omegas, P_LS)\n",
    "print \"Best period: {} days\".format(best_period)\n",
    "plot_phased_lc(bjds, mags, magerrs, best_period)"
   ]
  },
  {
   "cell_type": "markdown",
   "metadata": {},
   "source": [
    "## [Challenge] Exercise 6: Calculating significance of the period detection\n",
    "\n",
    "Real data may have *aliases*--frequency components that appear because of the sampling of the data, such as once per night.  Bootstrap significance tests, which shuffle the data values around but keep the times the same, can help rule these out.\n",
    "\n",
    "Calculate the chance probability of finding a LS peak higher than the observed value in random data observed at the specified intervals: use `lomb_scargle_bootstrap` and `np.percentile` to find the 95 and 99 percent significance levels and plot them over the LS power.\n",
    "\n"
   ]
  },
  {
   "cell_type": "code",
   "execution_count": 34,
   "metadata": {
    "collapsed": false
   },
   "outputs": [
    {
     "data": {
      "text/plain": [
       "<matplotlib.text.Text at 0x1122d8350>"
      ]
     },
     "execution_count": 34,
     "metadata": {},
     "output_type": "execute_result"
    },
    {
     "data": {
      "image/png": "[encoded data removed]",
      "text/plain": [
       "<matplotlib.figure.Figure at 0x1122a9d90>"
      ]
     },
     "metadata": {},
     "output_type": "display_data"
    }
   ],
   "source": [
    "D = lomb_scargle_bootstrap(mjds, mags, magerrs, omegas,\n",
    "   generalized=True, N_bootstraps=1000) # COMPLETE\n",
    "sig99, sig95 = np.percentile(D, [99, 95]) # COMPLETE\n",
    "plt.plot(omegas, P_LS)\n",
    "plt.plot([omegas[0],omegas[-1]], sig99*np.ones(2),'--')\n",
    "plt.plot([omegas[0],omegas[-1]], sig95*np.ones(2),'--')\n",
    "plt.xlabel('$\\omega$')\n",
    "plt.ylabel('$P_{LS}$')"
   ]
  },
  {
   "cell_type": "markdown",
   "metadata": {},
   "source": [
    "## [Challenge] Exercise 7: Find periods of other sources\n",
    "\n",
    "Now try finding the periods of these sources:\n",
    "\n",
    "* variableB \n",
    "* variableC (use `alt_frequency_grid`) \n",
    "* variableD (very hard with LS! use `alt_frequency_grid`)"
   ]
  },
  {
   "cell_type": "markdown",
   "metadata": {},
   "source": [
    "## [Challenge] Exercise 8: Compute all periods\n",
    "\n",
    "This is a big one: can you compute periods for *all* of the sources in our database with variability above XX amplitude?\n"
   ]
  },
  {
   "cell_type": "markdown",
   "metadata": {},
   "source": [
    "## [Challenge] Exercise 9: gatspy\n",
    "\n",
    "Try using the [`gatspy`](http://www.astroml.org/gatspy/) package to search for periods.  It uses a slightly different interface but has several nice features, such as automatic zooming on candidate frequency peaks."
   ]
  },
  {
   "cell_type": "code",
   "execution_count": 45,
   "metadata": {
    "collapsed": false
   },
   "outputs": [
    {
     "name": "stdout",
     "output_type": "stream",
     "text": [
      "Finding optimal frequency:\n",
      " - Estimated peak width = 0.0965\n",
      " - Using 5 steps per peak; omega_step = 0.0193\n",
      " - User-specified period range:  0.4 to 0.8\n",
      " - Computing periods at 409 steps\n",
      "Zooming-in on 5 candidate peaks:\n",
      " - Computing periods at 1000 steps\n",
      "0.628048921484\n"
     ]
    },
    {
     "data": {
      "image/png": "[encoded data removed]",
      "text/plain": [
       "<matplotlib.figure.Figure at 0x10ced7290>"
      ]
     },
     "metadata": {},
     "output_type": "display_data"
    }
   ],
   "source": [
    "import gatspy\n",
    "ls = gatspy.periodic.LombScargleFast().fit(bjds,mags,magerrs)\n",
    "#ls.optimizer.period_range = (0.2,1.2)\n",
    "ls.optimizer.period_range = (0.4,0.8)\n",
    "gatspy_period = ls.best_period\n",
    "print gatspy_period\n",
    "plot_phased_lc(bjds, mags, magerrs, gatspy_period)"
   ]
  },
  {
   "cell_type": "markdown",
   "metadata": {},
   "source": [
    "## [Challenge] Exercise 10: Alternate Algorithms \n",
    "\n",
    "Lomb-Scargle is equivalent to fitting a sinusoid to the phased data, but many kinds of variable stars do not have phased lightcurves that are well-represented by a sinusoid.  Other algorithms, such as those that attempt to minimize the dispersion within phase bins over a grid of trial phases, may be more successful in such cases.  See [Graham et al (2013)](http://adsabs.harvard.edu/abs/2013MNRAS.434.3423G) for a review.  \n",
    "\n",
    "\n"
   ]
  },
  {
   "cell_type": "markdown",
   "metadata": {},
   "source": [
    "## [Challenge] Exercise 10: Multi-harmonic fitting \n",
    "\n",
    "AstroML also includes [code](http://www.astroml.org/book_figures/chapter10/fig_LINEAR_LS.html) (see also `astroML.time_series.multiterm_periodogram`) for including multiple Fourier components in the fit, which can better fit arbitrary lightcurves."
   ]
  },
  {
   "cell_type": "markdown",
   "metadata": {},
   "source": [
    "*Other effects to consider*\n",
    "\n",
    "\n",
    "\n",
    "Many eclipsing binaries have primary and secondary eclipses, often with comparable depths.  The period found by LS (which fits a single sinusoid) will thus often be only half of the true period.  Plotting the phased lightcurve at double the LS period is often the easiest way to determine the true period. "
   ]
  },
  {
   "cell_type": "markdown",
   "metadata": {},
   "source": [
    "## References and Further Reading\n",
    "\n",
    "Scargle, J. 1982, [ApJ 263, 835](http://adsabs.harvard.edu/abs/1982ApJ...263..835S)\n",
    "\n",
    "Zechmeister, M., and Kürster, M. 2009, [A&A 496, 577](http://adsabs.harvard.edu/abs/2009A%26A...496..577Z)\n",
    "\n",
    "Graham, M. et al. 2013, [MNRAS 434, 3423](http://adsabs.harvard.edu/abs/2013MNRAS.434.3423G)\n",
    "\n",
    "[Statistics, Data Mining, and Machine Learning in Astronomy](http://press.princeton.edu/titles/10159.html) (Ivezic, Connolly, VanderPlas, & Gray)"
   ]
  }
 ],
 "metadata": {
  "kernelspec": {
   "display_name": "Python 2",
   "language": "python",
   "name": "python2"
  },
  "language_info": {
   "codemirror_mode": {
    "name": "ipython",
    "version": 2
   },
   "file_extension": ".py",
   "mimetype": "text/x-python",
   "name": "python",
   "nbconvert_exporter": "python",
   "pygments_lexer": "ipython2",
   "version": "2.7.10"
  }
 },
 "nbformat": 4,
 "nbformat_minor": 0
}

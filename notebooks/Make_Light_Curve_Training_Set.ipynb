{
 "cells": [
  {
   "cell_type": "markdown",
   "metadata": {},
   "source": [
    "This notebook is designed to make light curves using the same technique as the PTF summer school, so that a training set of sources that are QSOs and RRL can be included in the model for the pre-selected field of interest. "
   ]
  },
  {
   "cell_type": "code",
   "execution_count": null,
   "metadata": {
    "collapsed": true
   },
   "outputs": [],
   "source": [
    "from __future__ import division\n",
    "import numpy as np\n",
    "import astropy.io.fits as fits\n",
    "import astropy.coordinates as coords\n",
    "import astropy.units as u\n",
    "from astropy.time import Time\n",
    "import astropy.utils\n",
    "from glob import glob\n",
    "import matplotlib.pyplot as plt\n",
    "import shelve, pickle\n",
    "import uuid\n",
    "from IPython.display import HTML, Javascript, display\n",
    "import time\n",
    "import FATS\n",
    "%matplotlib inline"
   ]
  },
  {
   "cell_type": "code",
   "execution_count": null,
   "metadata": {
    "collapsed": true
   },
   "outputs": [],
   "source": [
    "# START with field 4163\n",
    "\n",
    "reference_catalog = '../data/other_fields/4163/PTF_d004163_f02_c09_u000152621_p12_sexcat.ctlg'\n",
    "# select R-band data (f02)\n",
    "epoch_catalogs = glob('../data/other_fields/4163/PTF_2*f02*.ctlg')"
   ]
  },
  {
   "cell_type": "code",
   "execution_count": null,
   "metadata": {
    "collapsed": true
   },
   "outputs": [],
   "source": [
    "def load_ref_catalog(reference_catalog):\n",
    "    hdus = fits.open(reference_catalog)\n",
    "    data = hdus[1].data\n",
    "    # filter flagged detections\n",
    "    w = ((data['flags'] & 506 == 0) & (data['MAG_AUTO'] < 99))\n",
    "    data = data[w]\n",
    "\n",
    "    ref_coords = coords.SkyCoord(data['X_WORLD'], data['Y_WORLD'],frame='icrs',unit='deg')\n",
    "\n",
    "    star_class = np.array(data[\"CLASS_STAR\"]).T\n",
    "    \n",
    "    return np.vstack([data['MAG_AUTO'],data['MAGERR_AUTO']]).T, ref_coords, star_class"
   ]
  },
  {
   "cell_type": "code",
   "execution_count": null,
   "metadata": {
    "collapsed": false
   },
   "outputs": [],
   "source": [
    "ref_mags, ref_coords, star_class = load_ref_catalog(reference_catalog)\n",
    "\n",
    "print \"There are %s sources in the reference image\" % len(ref_mags)\n",
    "print \"...\"\n",
    "print \"There are %s epochs for this field\" % len(epoch_catalogs)"
   ]
  },
  {
   "cell_type": "code",
   "execution_count": null,
   "metadata": {
    "collapsed": true
   },
   "outputs": [],
   "source": [
    "def crossmatch_epochs(reference_coords, epoch_catalogs):\n",
    "    \n",
    "    n_stars = len(reference_coords)\n",
    "    n_epochs = len(epoch_catalogs)\n",
    "    \n",
    "    mags = np.ma.zeros([n_stars, n_epochs])\n",
    "    magerrs = np.ma.zeros([n_stars, n_epochs])\n",
    "    mjds = np.ma.zeros(n_epochs)\n",
    "    \n",
    "    with astropy.utils.console.ProgressBar(len(epoch_catalogs),ipython_widget=True) as bar:\n",
    "        for i, catalog in enumerate(epoch_catalogs):\n",
    "            hdus = fits.open(catalog)\n",
    "            data = hdus[1].data\n",
    "            hdr = hdus[2].header\n",
    "            # filter flagged detections\n",
    "            w = ((data['flags'] & 506 == 0) & (data['imaflags_iso'] & 1821 == 0))\n",
    "            data = data[w]\n",
    "\n",
    "            epoch_coords = coords.SkyCoord(data['X_WORLD'], data['Y_WORLD'],frame='icrs',unit='deg')\n",
    "            idx, sep, dist = coords.match_coordinates_sky(epoch_coords, reference_coords)\n",
    "        \n",
    "            wmatch = (sep <= 1.5*u.arcsec)\n",
    "        \n",
    "        # store data\n",
    "            if np.sum(wmatch):\n",
    "                mags[idx[wmatch],i] = data[wmatch]['MAG_APER'][:,2] + data[wmatch]['ZEROPOINT']\n",
    "                magerrs[idx[wmatch],i] = data[wmatch]['MAGERR_APER'][:,2]\n",
    "                mjds[i] = hdr['OBSMJD']\n",
    "\n",
    "            bar.update()\n",
    "    return mjds, mags, magerrs"
   ]
  },
  {
   "cell_type": "code",
   "execution_count": null,
   "metadata": {
    "collapsed": false
   },
   "outputs": [],
   "source": [
    "mjds,mags,magerrs = crossmatch_epochs(ref_coords, epoch_catalogs)"
   ]
  },
  {
   "cell_type": "code",
   "execution_count": null,
   "metadata": {
    "collapsed": false
   },
   "outputs": [],
   "source": [
    "wbad = (mags < 10) | (mags > 25)\n",
    "mags[wbad] = np.ma.masked\n",
    "magerrs[wbad] = np.ma.masked"
   ]
  },
  {
   "cell_type": "code",
   "execution_count": null,
   "metadata": {
    "collapsed": true
   },
   "outputs": [],
   "source": [
    "def relative_photometry(ref_mags, star_class, mags, magerrs):\n",
    "    #make copies, as we're going to modify the masks\n",
    "    all_mags = mags.copy()\n",
    "    all_errs = magerrs.copy()\n",
    "    \n",
    "    # average over observations\n",
    "#     medmags = np.ma.median(all_mags,axis=1)  # use the mag in the reference image\n",
    "    refmags = np.ma.array(ref_mags[:,0])\n",
    "#     stdmags = np.ma.std(all_mags,axis=1)     # use outlier resistant median absolute deviation\n",
    "    madmags = 1.48*np.ma.median(np.abs(all_mags - np.ma.median(all_mags, axis = 1).reshape(len(ref_mags),1)), axis = 1)\n",
    "    MSE = np.ma.mean(all_errs**2.,axis=1)\n",
    "\n",
    "    # exclude bad stars: highly variable, saturated, or faint\n",
    "    # use excess variance to find bad objects\n",
    "    excess_variance = madmags**2. - MSE\n",
    "    wbad = np.where((np.abs(excess_variance) > 0.1) | (refmags < 14.5) | (refmags > 17) | (star_class < 0.9))\n",
    "    # mask them out\n",
    "    refmags[wbad] = np.ma.masked\n",
    "    \n",
    "    # exclude stars that are not detected in a majority of epochs\n",
    "    Nepochs = len(all_mags[0,:])\n",
    "    nbad = np.where(np.ma.sum(all_mags > 1, axis = 1) <= Nepochs/2.)\n",
    "    refmags[nbad] = np.ma.masked\n",
    "\n",
    "    # for each observation, take the median of the difference between the median mag and the observed mag\n",
    "    # annoying dimension swapping to get the 1D vector to blow up right\n",
    "    relative_zp = np.ma.median(all_mags - refmags.reshape((len(all_mags),1)),axis=0)\n",
    "\n",
    "    return relative_zp"
   ]
  },
  {
   "cell_type": "code",
   "execution_count": null,
   "metadata": {
    "collapsed": false
   },
   "outputs": [],
   "source": [
    "# compute the relative photometry and subtract it. Don't fret about error propagation\n",
    "rel_zp = relative_photometry(ref_mags, star_class, mags, magerrs)\n",
    "mags -= np.ma.resize(rel_zp, mags.shape)"
   ]
  },
  {
   "cell_type": "code",
   "execution_count": null,
   "metadata": {
    "collapsed": true
   },
   "outputs": [],
   "source": [
    "outfile = reference_catalog.split('/')[-1].replace('ctlg','shlv')\n",
    "shelf = shelve.open('../data/'+outfile,flag='c',protocol=pickle.HIGHEST_PROTOCOL)\n",
    "shelf['mjds'] = mjds\n",
    "shelf['mags'] = mags\n",
    "shelf['magerrs'] = magerrs\n",
    "shelf['ref_coords'] = ref_coords\n",
    "shelf.close()"
   ]
  },
  {
   "cell_type": "code",
   "execution_count": null,
   "metadata": {
    "collapsed": true
   },
   "outputs": [],
   "source": [
    "def source_lightcurve(rel_phot_shlv, ra, dec, matchr = 1.0):\n",
    "    \"\"\"Crossmatch ra and dec to a PTF shelve file, to return light curve of a given star\"\"\"\n",
    "    shelf = shelve.open(rel_phot_shlv)\n",
    "    ref_coords = coords.SkyCoord(shelf[\"ref_coords\"].ra, shelf[\"ref_coords\"].dec,frame='icrs',unit='deg')    \n",
    "    \n",
    "    source_coords = coords.SkyCoord(ra, dec,frame='icrs',unit='deg')\n",
    "    idx, sep, dist = coords.match_coordinates_sky(source_coords, ref_coords)        \n",
    "    \n",
    "    wmatch = (sep <= matchr*u.arcsec)\n",
    "    \n",
    "    if sum(wmatch) == 1:\n",
    "        mjds = shelf[\"mjds\"]\n",
    "        mags = shelf[\"mags\"][idx]\n",
    "        magerrs = shelf[\"magerrs\"][idx]\n",
    "        \n",
    "        return mjds, mags, magerrs\n",
    "\n",
    "    else:\n",
    "        return \"There are no matches to the provided coordinates within %.1f arcsec\" % (matchr)"
   ]
  },
  {
   "cell_type": "code",
   "execution_count": null,
   "metadata": {
    "collapsed": false
   },
   "outputs": [],
   "source": [
    "reference_catalog = '../data/other_fields/4163/PTF_d004163_f02_c09_u000152621_p12_sexcat.ctlg'\n",
    "outfile = reference_catalog.split('/')[-1].replace('ctlg','shlv')\n",
    "\n",
    "ra = np.array([253.177886, 252.830368, 253.063609, 253.286147])\n",
    "dec = np.array([32.266276, 32.02584, 31.901347, 32.535967])\n",
    "RRLfeats = []\n",
    "for r, d in zip(ra, dec):\n",
    "    source_mjds, source_mags, source_magerrs = source_lightcurve('../data/'+outfile, r, d)\n",
    "    [mag, time, error] = FATS.Preprocess_LC(source_mags, source_mjds, source_magerrs).Preprocess()\n",
    "\n",
    "    lc = np.array([mag, time, error])\n",
    "    feats = FATS.FeatureSpace(Data=['magnitude', 'time', 'error']).calculateFeature(lc)\n",
    "    feat_row = np.reshape(feats.result(method='array'), (1,59))\n",
    "        \n",
    "    if len(RRLfeats) == 0:\n",
    "        RRLfeats = feat_row\n",
    "    else:\n",
    "        RRLfeats = np.append(RRLfeats, feat_row, axis = 0)"
   ]
  },
  {
   "cell_type": "code",
   "execution_count": null,
   "metadata": {
    "collapsed": false
   },
   "outputs": [],
   "source": [
    "reference_catalog = '../data/other_fields/4163/PTF_d004163_f02_c09_u000152621_p12_sexcat.ctlg'\n",
    "outfile = reference_catalog.split('/')[-1].replace('ctlg','shlv')\n",
    "\n",
    "ra = np.array([252.97529, 252.92493,252.97529, 252.88804, 253.33945, 253.10062, 253.3395, 253.4526])\n",
    "dec = np.array([31.551398, 32.244859, 31.551391,31.707791, 31.538562,32.017281,31.538542,31.518162])\n",
    "QSOfeats = []\n",
    "for r, d in zip(ra, dec):\n",
    "    source_mjds, source_mags, source_magerrs = source_lightcurve('../data/'+outfile, r, d)\n",
    "    [mag, time, error] = FATS.Preprocess_LC(source_mags, source_mjds, source_magerrs).Preprocess()\n",
    "\n",
    "    lc = np.array([mag, time, error])\n",
    "    feats = FATS.FeatureSpace(Data=['magnitude', 'time', 'error']).calculateFeature(lc)\n",
    "    feat_row = np.reshape(feats.result(method='array'), (1,59))\n",
    "        \n",
    "    if len(QSOfeats) == 0:\n",
    "        QSOfeats = feat_row\n",
    "    else:\n",
    "        QSOfeats = np.append(QSOfeats, feat_row, axis = 0)"
   ]
  },
  {
   "cell_type": "code",
   "execution_count": null,
   "metadata": {
    "collapsed": false
   },
   "outputs": [],
   "source": [
    "ra, dec = 253.4526,31.518162\n",
    "shelf = shelve.open('../data/'+outfile)\n",
    "ref_coords = coords.SkyCoord(shelf[\"ref_coords\"].ra, shelf[\"ref_coords\"].dec,frame='icrs',unit='deg')    \n",
    "    \n",
    "source_coords = coords.SkyCoord(ra, dec,frame='icrs',unit='deg')\n",
    "idx, sep, dist = coords.match_coordinates_sky(source_coords, ref_coords)        \n",
    "    \n",
    "wmatch = (sep <= 1*u.arcsec)\n",
    "\n",
    "wmatch"
   ]
  },
  {
   "cell_type": "code",
   "execution_count": null,
   "metadata": {
    "collapsed": false
   },
   "outputs": [],
   "source": [
    "## 2nd with field 3696\n",
    "\n",
    "reference_catalog = '../data/other_fields/3696/PTF_d003696_f02_c06_u000154869_p12_sexcat.ctlg'\n",
    "# select R-band data (f02)\n",
    "epoch_catalogs = glob('../data/other_fields/3696/PTF_2*f02*.ctlg')\n",
    "\n",
    "ref_mags, ref_coords, star_class = load_ref_catalog(reference_catalog)\n",
    "\n",
    "print \"There are %s sources in the reference image\" % len(ref_mags)\n",
    "print \"...\"\n",
    "print \"There are %s epochs for this field\" % len(epoch_catalogs)\n",
    "\n",
    "mjds,mags,magerrs = crossmatch_epochs(ref_coords, epoch_catalogs)\n",
    "\n",
    "wbad = (mags < 10) | (mags > 25)\n",
    "mags[wbad] = np.ma.masked\n",
    "magerrs[wbad] = np.ma.masked\n",
    "\n",
    "# compute the relative photometry and subtract it. Don't fret about error propagation\n",
    "rel_zp = relative_photometry(ref_mags, star_class, mags, magerrs)\n",
    "mags -= np.ma.resize(rel_zp, mags.shape)"
   ]
  },
  {
   "cell_type": "code",
   "execution_count": null,
   "metadata": {
    "collapsed": true
   },
   "outputs": [],
   "source": [
    "outfile = reference_catalog.split('/')[-1].replace('ctlg','shlv')\n",
    "shelf = shelve.open('../data/'+outfile,flag='c',protocol=pickle.HIGHEST_PROTOCOL)\n",
    "shelf['mjds'] = mjds\n",
    "shelf['mags'] = mags\n",
    "shelf['magerrs'] = magerrs\n",
    "shelf['ref_coords'] = ref_coords\n",
    "shelf.close()"
   ]
  },
  {
   "cell_type": "code",
   "execution_count": null,
   "metadata": {
    "collapsed": false
   },
   "outputs": [],
   "source": [
    "reference_catalog = '../data/other_fields/3696/PTF_d003696_f02_c06_u000154869_p12_sexcat.ctlg'\n",
    "outfile = reference_catalog.split('/')[-1].replace('ctlg','shlv')\n",
    "\n",
    "ra = np.array([253.65622, 253.589594])\n",
    "dec = np.array([20.743137, 20.696087])\n",
    "for r, d in zip(ra, dec):\n",
    "    source_mjds, source_mags, source_magerrs = source_lightcurve('../data/'+outfile, r, d)\n",
    "    [mag, time, error] = FATS.Preprocess_LC(source_mags, source_mjds, source_magerrs).Preprocess()\n",
    "\n",
    "    lc = np.array([mag, time, error])\n",
    "    feats = FATS.FeatureSpace(Data=['magnitude', 'time', 'error']).calculateFeature(lc)\n",
    "    feat_row = np.reshape(feats.result(method='array'), (1,59))\n",
    "        \n",
    "    if len(RRLfeats) == 0:\n",
    "        RRLfeats = feat_row\n",
    "    else:\n",
    "        RRLfeats = np.append(RRLfeats, feat_row, axis = 0)"
   ]
  },
  {
   "cell_type": "code",
   "execution_count": null,
   "metadata": {
    "collapsed": false
   },
   "outputs": [],
   "source": [
    "reference_catalog = '../data/other_fields/3696/PTF_d003696_f02_c06_u000154869_p12_sexcat.ctlg'\n",
    "outfile = reference_catalog.split('/')[-1].replace('ctlg','shlv')\n",
    "\n",
    "ra = np.array([253.47151, 253.50356, 253.50356, 253.59031, 253.6131,  253.78818, 253.86388, 253.86388, 253.91854, 253.92526])\n",
    "dec = np.array([20.346592, 21.149149, 21.149149, 20.494092, 20.564037,  21.322201, 20.663265, 20.66327, 20.622025, 20.651342])\n",
    "for r, d in zip(ra, dec):\n",
    "    source_mjds, source_mags, source_magerrs = source_lightcurve('../data/'+outfile, r, d)\n",
    "    [mag, time, error] = FATS.Preprocess_LC(source_mags, source_mjds, source_magerrs).Preprocess()\n",
    "\n",
    "    lc = np.array([mag, time, error])\n",
    "    feats = FATS.FeatureSpace(Data=['magnitude', 'time', 'error']).calculateFeature(lc)\n",
    "    feat_row = np.reshape(feats.result(method='array'), (1,59))\n",
    "        \n",
    "    if len(QSOfeats) == 0:\n",
    "        QSOfeats = feat_row\n",
    "    else:\n",
    "        QSOfeats = np.append(QSOfeats, feat_row, axis = 0)"
   ]
  },
  {
   "cell_type": "code",
   "execution_count": null,
   "metadata": {
    "collapsed": false
   },
   "outputs": [],
   "source": [
    "## 3rd with field 3696\n",
    "\n",
    "reference_catalog = '../data/other_fields/22682/PTF_d022682_f02_c11_u000096411_p12_sexcat.ctlg'\n",
    "# select R-band data (f02)\n",
    "epoch_catalogs = glob('../data/other_fields/22682/PTF_2*f02*.ctlg')\n",
    "\n",
    "ref_mags, ref_coords, star_class = load_ref_catalog(reference_catalog)\n",
    "\n",
    "print \"There are %s sources in the reference image\" % len(ref_mags)\n",
    "print \"...\"\n",
    "print \"There are %s epochs for this field\" % len(epoch_catalogs)\n",
    "\n",
    "mjds,mags,magerrs = crossmatch_epochs(ref_coords, epoch_catalogs)\n",
    "\n",
    "wbad = (mags < 10) | (mags > 25)\n",
    "mags[wbad] = np.ma.masked\n",
    "magerrs[wbad] = np.ma.masked\n",
    "\n",
    "# compute the relative photometry and subtract it. Don't fret about error propagation\n",
    "rel_zp = relative_photometry(ref_mags, star_class, mags, magerrs)\n",
    "mags -= np.ma.resize(rel_zp, mags.shape)"
   ]
  },
  {
   "cell_type": "code",
   "execution_count": null,
   "metadata": {
    "collapsed": true
   },
   "outputs": [],
   "source": [
    "outfile = reference_catalog.split('/')[-1].replace('ctlg','shlv')\n",
    "shelf = shelve.open('../data/'+outfile,flag='c',protocol=pickle.HIGHEST_PROTOCOL)\n",
    "shelf['mjds'] = mjds\n",
    "shelf['mags'] = mags\n",
    "shelf['magerrs'] = magerrs\n",
    "shelf['ref_coords'] = ref_coords\n",
    "shelf.close()"
   ]
  },
  {
   "cell_type": "code",
   "execution_count": null,
   "metadata": {
    "collapsed": false
   },
   "outputs": [],
   "source": [
    "reference_catalog = '../data/other_fields/22682/PTF_d022682_f02_c11_u000096411_p12_sexcat.ctlg'\n",
    "outfile = reference_catalog.split('/')[-1].replace('ctlg','shlv')\n",
    "\n",
    "ra = np.array([311.527209, 311.546485, 311.711246])\n",
    "dec = np.array([-0.133972, -0.042581, -0.898823])\n",
    "for r, d in zip(ra, dec):\n",
    "    source_mjds, source_mags, source_magerrs = source_lightcurve('../data/'+outfile, r, d)\n",
    "    [mag, time, error] = FATS.Preprocess_LC(source_mags, source_mjds, source_magerrs).Preprocess()\n",
    "\n",
    "    lc = np.array([mag, time, error])\n",
    "    feats = FATS.FeatureSpace(Data=['magnitude', 'time', 'error']).calculateFeature(lc)\n",
    "    feat_row = np.reshape(feats.result(method='array'), (1,59))\n",
    "        \n",
    "    if len(RRLfeats) == 0:\n",
    "        RRLfeats = feat_row\n",
    "    else:\n",
    "        RRLfeats = np.append(RRLfeats, feat_row, axis = 0)"
   ]
  },
  {
   "cell_type": "code",
   "execution_count": null,
   "metadata": {
    "collapsed": false
   },
   "outputs": [],
   "source": [
    "reference_catalog = '../data/other_fields/22682/PTF_d022682_f02_c11_u000096411_p12_sexcat.ctlg'\n",
    "outfile = reference_catalog.split('/')[-1].replace('ctlg','shlv')\n",
    "\n",
    "ra = np.array([311.54785, 311.59198, 311.81836])\n",
    "dec = np.array([-0.60713278, -0.48408186, -0.28332211])\n",
    "for r, d in zip(ra, dec):\n",
    "    source_mjds, source_mags, source_magerrs = source_lightcurve('../data/'+outfile, r, d)\n",
    "    [mag, time, error] = FATS.Preprocess_LC(source_mags, source_mjds, source_magerrs).Preprocess()\n",
    "\n",
    "    lc = np.array([mag, time, error])\n",
    "    feats = FATS.FeatureSpace(Data=['magnitude', 'time', 'error']).calculateFeature(lc)\n",
    "    feat_row = np.reshape(feats.result(method='array'), (1,59))\n",
    "        \n",
    "    if len(QSOfeats) == 0:\n",
    "        QSOfeats = feat_row\n",
    "    else:\n",
    "        QSOfeats = np.append(QSOfeats, feat_row, axis = 0)"
   ]
  },
  {
   "cell_type": "code",
   "execution_count": null,
   "metadata": {
    "collapsed": false
   },
   "outputs": [],
   "source": [
    "STARfeats = []\n",
    "for mags, magerrs in zip(shelf['mags'], shelf['magerrs']):\n",
    "    if (sum(mags.mask) - len(mags)) > -20 or np.ma.median(mags) > 19.5:\n",
    "        continue\n",
    "    else:\n",
    "        lc_mag = mags\n",
    "        lc_mjd = shelf['mjds']\n",
    "        lc_magerr = magerrs\n",
    "\n",
    "        [mag, time, error] = FATS.Preprocess_LC(lc_mag, lc_mjd, lc_magerr).Preprocess()\n",
    "\n",
    "        lc = np.array([mag, time, error])\n",
    "        feats = FATS.FeatureSpace(Data=['magnitude', 'time', 'error']).calculateFeature(lc)\n",
    "        feat_row = np.reshape(feats.result(method='array'), (1,59))\n",
    "        \n",
    "        if len(STARfeats) == 0:\n",
    "            STARfeats = feat_row\n",
    "        elif len(STARfeats) < 100:\n",
    "            STARfeats = np.append(STARfeats, feat_row, axis = 0)\n",
    "        else:\n",
    "            break"
   ]
  },
  {
   "cell_type": "code",
   "execution_count": null,
   "metadata": {
    "collapsed": false
   },
   "outputs": [],
   "source": [
    "TSfeats = np.append(STARfeats, QSOfeats, axis = 0)\n",
    "TSfeats = np.append(TSfeats, RRLfeats, axis = 0)\n",
    "\n",
    "TSlabels = np.empty(len(TSfeats), dtype = '|S4')\n",
    "TSlabels[0:len(STARfeats)] = 'star'\n",
    "TSlabels[len(STARfeats):len(STARfeats)+len(QSOfeats)] = 'qso'\n",
    "TSlabels[-len(RRLfeats):] = 'rrl'\n",
    "\n",
    "from astropy.table import Table\n",
    "feat_table = Table(TSfeats, names = tuple(feats.result(method='features')))\n",
    "feat_table['class'] = TSlabels\n",
    "feat_table.write('../data/TS_PTF_feats.csv', format='csv')"
   ]
  },
  {
   "cell_type": "code",
   "execution_count": null,
   "metadata": {
    "collapsed": false
   },
   "outputs": [],
   "source": [
    "feat_table"
   ]
  },
  {
   "cell_type": "code",
   "execution_count": null,
   "metadata": {
    "collapsed": false
   },
   "outputs": [],
   "source": [
    "len(QSOfeats)"
   ]
  },
  {
   "cell_type": "code",
   "execution_count": null,
   "metadata": {
    "collapsed": true
   },
   "outputs": [],
   "source": []
  }
 ],
 "metadata": {
  "anaconda-cloud": {},
  "kernelspec": {
   "display_name": "Python 2",
   "language": "python",
   "name": "python2"
  },
  "language_info": {
   "codemirror_mode": {
    "name": "ipython",
    "version": 2
   },
   "file_extension": ".py",
   "mimetype": "text/x-python",
   "name": "python",
   "nbconvert_exporter": "python",
   "pygments_lexer": "ipython2",
   "version": "2.7.10"
  }
 },
 "nbformat": 4,
 "nbformat_minor": 0
}

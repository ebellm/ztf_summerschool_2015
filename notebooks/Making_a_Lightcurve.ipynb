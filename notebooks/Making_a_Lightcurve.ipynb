{
 "cells": [
  {
   "cell_type": "markdown",
   "metadata": {},
   "source": [
    "## Making a Lightcurve from PTF catalog data"
   ]
  },
  {
   "cell_type": "code",
   "execution_count": null,
   "metadata": {
    "collapsed": true
   },
   "outputs": [],
   "source": [
    "from __future__ import division, print_function, absolute_import, unicode_literals\n",
    "import numpy as np\n",
    "import astropy.io.fits as fits\n",
    "import astropy.coordinates as coords\n",
    "import astropy.units as u\n",
    "from astropy.time import Time\n",
    "import astropy.utils\n",
    "from glob import glob\n",
    "import matplotlib.pyplot as plt\n",
    "import shelve, pickle\n",
    "import uuid\n",
    "from IPython.display import HTML, Javascript, display\n",
    "import time\n",
    "%matplotlib inline"
   ]
  },
  {
   "cell_type": "code",
   "execution_count": null,
   "metadata": {
    "collapsed": false
   },
   "outputs": [],
   "source": [
    "reference_catalog = '../data/PTF_Refims_Files/PTF_d022683_f02_c06_u000114210_p12_sexcat.ctlg'\n",
    "# select R-band data (f02)\n",
    "epoch_catalogs = glob('../data/PTF_Procim_Files/PTF*f02*.ctlg.gz')"
   ]
  },
  {
   "cell_type": "code",
   "execution_count": null,
   "metadata": {
    "collapsed": true
   },
   "outputs": [],
   "source": [
    "def load_ref_catalog(reference_catalog):\n",
    "    hdus = fits.open(reference_catalog)\n",
    "    data = hdus[1].data\n",
    "    # filter flagged detections\n",
    "    w = ((data['flags'] & 506 == 0) & (data['MAG_AUTO'] < 99))\n",
    "    data = data[w]\n",
    "\n",
    "    ref_coords = coords.SkyCoord(data['X_WORLD'], data['Y_WORLD'],frame='icrs',unit='deg')\n",
    "\n",
    "    star_class = np.array(data[\"CLASS_STAR\"]).T\n",
    "    \n",
    "    return np.vstack([data['MAG_AUTO'],data['MAGERR_AUTO']]).T, ref_coords, star_class"
   ]
  },
  {
   "cell_type": "code",
   "execution_count": null,
   "metadata": {
    "collapsed": false
   },
   "outputs": [],
   "source": [
    "ref_mags, ref_coords, star_class = load_ref_catalog(reference_catalog)"
   ]
  },
  {
   "cell_type": "code",
   "execution_count": null,
   "metadata": {
    "collapsed": false
   },
   "outputs": [],
   "source": [
    "print(\"There are {:d} sources in the reference image\".format(len(ref_mags)))\n",
    "print(\"...\")\n",
    "print(\"There are {:d} epochs for this field\".format(len(epoch_catalogs)))"
   ]
  },
  {
   "cell_type": "code",
   "execution_count": null,
   "metadata": {
    "collapsed": false
   },
   "outputs": [],
   "source": [
    "def crossmatch_epochs(reference_coords, epoch_catalogs):\n",
    "    \n",
    "    n_stars = len(reference_coords)\n",
    "    n_epochs = len(epoch_catalogs)\n",
    "    \n",
    "    mags = np.ma.zeros([n_stars, n_epochs])\n",
    "    magerrs = np.ma.zeros([n_stars, n_epochs])\n",
    "    mjds = np.ma.zeros(n_epochs)\n",
    "    \n",
    "    with astropy.utils.console.ProgressBar(len(epoch_catalogs),ipython_widget=True) as bar:\n",
    "        for i, catalog in enumerate(epoch_catalogs):\n",
    "            hdus = fits.open(catalog)\n",
    "            data = hdus[1].data\n",
    "            hdr = hdus[2].header\n",
    "            # filter flagged detections\n",
    "            w = ((data['flags'] & 506 == 0) & (data['imaflags_iso'] & 1821 == 0))\n",
    "            data = data[w]\n",
    "\n",
    "            epoch_coords = coords.SkyCoord(data['X_WORLD'], data['Y_WORLD'],frame='icrs',unit='deg')\n",
    "            idx, sep, dist = coords.match_coordinates_sky(epoch_coords, reference_coords)\n",
    "        \n",
    "            wmatch = (sep <= 1.5*u.arcsec)\n",
    "        \n",
    "        # store data\n",
    "            if np.sum(wmatch):\n",
    "                mags[idx[wmatch],i] = data[wmatch]['MAG_APER'][:,2] + data[wmatch]['ZEROPOINT']\n",
    "                magerrs[idx[wmatch],i] = data[wmatch]['MAGERR_APER'][:,2]\n",
    "                mjds[i] = hdr['OBSMJD']\n",
    "\n",
    "            bar.update()\n",
    "    return mjds, mags, magerrs"
   ]
  },
  {
   "cell_type": "code",
   "execution_count": null,
   "metadata": {
    "collapsed": false
   },
   "outputs": [],
   "source": [
    "mjds,mags,magerrs = crossmatch_epochs(ref_coords, epoch_catalogs)"
   ]
  },
  {
   "cell_type": "code",
   "execution_count": null,
   "metadata": {
    "collapsed": true
   },
   "outputs": [],
   "source": [
    "# mask obviously bad mags\n",
    "wbad = (mags < 10) | (mags > 25)\n",
    "mags[wbad] = np.ma.masked\n",
    "magerrs[wbad] = np.ma.masked"
   ]
  },
  {
   "cell_type": "code",
   "execution_count": null,
   "metadata": {
    "collapsed": false
   },
   "outputs": [],
   "source": [
    "source_idx = 62\n",
    "plt.errorbar(mjds, mags[source_idx,:],magerrs[source_idx,:],fmt='none')\n",
    "plt.ylim(np.max(mags[source_idx,:])+0.05, np.min(mags[source_idx,:])-0.05)\n",
    "plt.xlabel(\"MJD\")\n",
    "plt.ylabel(\"R mag\")\n",
    "\n",
    "print(\"scatter = {:.3f}\".format((np.ma.std(mags[source_idx,:]))))"
   ]
  },
  {
   "cell_type": "code",
   "execution_count": null,
   "metadata": {
    "collapsed": false
   },
   "outputs": [],
   "source": [
    "plt.scatter(np.ma.median(mags,axis=1), np.ma.std(mags,axis=1)**2. - np.ma.mean(magerrs**2.,axis=1), \n",
    "            edgecolor = \"None\", alpha = 0.2)\n",
    "plt.ylim(-0.2,0.5)"
   ]
  },
  {
   "cell_type": "code",
   "execution_count": null,
   "metadata": {
    "collapsed": false
   },
   "outputs": [],
   "source": [
    "# examine a plot of the typical scatter as a function of magnitude\n",
    "\n",
    "plt.scatter(np.ma.median(mags,axis=1), np.ma.std(mags,axis=1),alpha=0.1)\n",
    "plt.ylim(0.005,0.5)\n",
    "plt.yscale(\"log\")\n",
    "\n",
    "#cindarella's shoe!!"
   ]
  },
  {
   "cell_type": "code",
   "execution_count": null,
   "metadata": {
    "collapsed": false
   },
   "outputs": [],
   "source": [
    "def relative_photometry(ref_mags, star_class, mags, magerrs):\n",
    "    #make copies, as we're going to modify the masks\n",
    "    all_mags = mags.copy()\n",
    "    all_errs = magerrs.copy()\n",
    "    \n",
    "    # average over observations\n",
    "#     medmags = np.ma.median(all_mags,axis=1)  # use the mag in the reference image\n",
    "    refmags = np.ma.array(ref_mags[:,0])\n",
    "#     stdmags = np.ma.std(all_mags,axis=1)     # use outlier resistant median absolute deviation\n",
    "    madmags = 1.48*np.ma.median(np.abs(all_mags - np.ma.median(all_mags, axis = 1).reshape(len(ref_mags),1)), axis = 1)\n",
    "    MSE = np.ma.mean(all_errs**2.,axis=1)\n",
    "\n",
    "    # exclude bad stars: highly variable, saturated, or faint\n",
    "    # use excess variance to find bad objects\n",
    "    excess_variance = madmags**2. - MSE\n",
    "    wbad = np.where((np.abs(excess_variance) > 0.1) | (refmags < 14.5) | (refmags > 17) | (star_class < 0.9))\n",
    "    # mask them out\n",
    "    refmags[wbad] = np.ma.masked\n",
    "    \n",
    "    # exclude stars that are not detected in a majority of epochs\n",
    "    Nepochs = len(all_mags[0,:])\n",
    "    nbad = np.where(np.ma.sum(all_mags > 1, axis = 1) <= Nepochs/2.)\n",
    "    refmags[nbad] = np.ma.masked\n",
    "\n",
    "    # for each observation, take the median of the difference between the median mag and the observed mag\n",
    "    # annoying dimension swapping to get the 1D vector to blow up right\n",
    "    relative_zp = np.ma.median(all_mags - refmags.reshape((len(all_mags),1)),axis=0)\n",
    "\n",
    "    return relative_zp"
   ]
  },
  {
   "cell_type": "code",
   "execution_count": null,
   "metadata": {
    "collapsed": false
   },
   "outputs": [],
   "source": [
    "# compute the relative photometry and subtract it. Don't fret about error propagation\n",
    "rel_zp = relative_photometry(ref_mags, star_class, mags, magerrs)\n",
    "mags -= np.ma.resize(rel_zp, mags.shape)"
   ]
  },
  {
   "cell_type": "code",
   "execution_count": null,
   "metadata": {
    "collapsed": false
   },
   "outputs": [],
   "source": [
    "source_idx = 62\n",
    "plt.errorbar(mjds, mags[source_idx,:],magerrs[source_idx,:],fmt='none')\n",
    "plt.ylim(np.max(mags[source_idx,:])+0.05, np.min(mags[source_idx,:])-0.05)\n",
    "plt.xlabel(\"MJD\")\n",
    "plt.ylabel(\"R mag\")\n",
    "\n",
    "print(\"scatter = {:.3f}\".format((np.ma.std(mags[source_idx,:]))))"
   ]
  },
  {
   "cell_type": "code",
   "execution_count": null,
   "metadata": {
    "collapsed": false
   },
   "outputs": [],
   "source": [
    "plt.scatter(ref_mags[:,0], np.ma.std(mags,axis=1),alpha=0.1)\n",
    "plt.ylim(0.003,0.7)\n",
    "plt.yscale(\"log\")\n",
    "plt.xlim(13,22)"
   ]
  },
  {
   "cell_type": "code",
   "execution_count": null,
   "metadata": {
    "collapsed": false
   },
   "outputs": [],
   "source": [
    "plt.scatter(np.ma.median(mags,axis=1), np.ma.sum(mags.mask,axis=1),alpha=0.1)"
   ]
  },
  {
   "cell_type": "code",
   "execution_count": null,
   "metadata": {
    "collapsed": false
   },
   "outputs": [],
   "source": [
    "# save the output: ref_coords, mjds, mags, magerrs.\n",
    "\n",
    "outfile = reference_catalog.split('/')[-1].replace('ctlg','shlv')\n",
    "shelf = shelve.open('../data/'+outfile,flag='c',protocol=pickle.HIGHEST_PROTOCOL)\n",
    "shelf['mjds'] = mjds\n",
    "shelf['mags'] = mags\n",
    "shelf['magerrs'] = magerrs\n",
    "shelf['ref_coords'] = ref_coords\n",
    "shelf.close()"
   ]
  },
  {
   "cell_type": "code",
   "execution_count": null,
   "metadata": {
    "collapsed": false
   },
   "outputs": [],
   "source": [
    "# demonstrate getting the data back out\n",
    "shelf = shelve.open('../data/'+outfile)\n",
    "for key in shelf.keys():\n",
    "    print(key, shelf[key].shape)\n",
    "shelf.close()"
   ]
  },
  {
   "cell_type": "code",
   "execution_count": null,
   "metadata": {
    "collapsed": true
   },
   "outputs": [],
   "source": [
    "def source_lightcurve(rel_phot_shlv, ra, dec, matchr = 1.0):\n",
    "    \"\"\"Crossmatch ra and dec to a PTF shelve file, to return light curve of a given star\"\"\"\n",
    "    shelf = shelve.open(rel_phot_shlv)\n",
    "    ref_coords = coords.SkyCoord(shelf[\"ref_coords\"].ra, shelf[\"ref_coords\"].dec,frame='icrs',unit='deg')    \n",
    "    \n",
    "    source_coords = coords.SkyCoord(ra, dec,frame='icrs',unit='deg')\n",
    "    idx, sep, dist = coords.match_coordinates_sky(source_coords, ref_coords)        \n",
    "    \n",
    "    wmatch = (sep <= matchr*u.arcsec)\n",
    "    \n",
    "    if sum(wmatch) == 1:\n",
    "        mjds = shelf[\"mjds\"]\n",
    "        mags = shelf[\"mags\"][idx]\n",
    "        magerrs = shelf[\"magerrs\"][idx]\n",
    "        \n",
    "        # filter so we only return good points\n",
    "        wgood = (mags.mask == False)\n",
    "\n",
    "        if (np.sum(wgood) == 0):\n",
    "            raise ValueError(\"No good photometry at this position.\")\n",
    "\n",
    "        return mjds[wgood], mags[wgood], magerrs[wgood]\n",
    "\n",
    "    else:\n",
    "        raise ValueError(\"There are no matches to the provided coordinates within %.1f arcsec\" % (matchr))\n"
   ]
  },
  {
   "cell_type": "code",
   "execution_count": null,
   "metadata": {
    "collapsed": false
   },
   "outputs": [],
   "source": [
    "ra, dec = 312.503802, -0.706603\n",
    "source_mjds, source_mags, source_magerrs = source_lightcurve('../data/'+outfile, ra, dec)"
   ]
  },
  {
   "cell_type": "code",
   "execution_count": null,
   "metadata": {
    "collapsed": false
   },
   "outputs": [],
   "source": [
    "plt.errorbar(source_mjds, source_mags, source_magerrs, fmt = \"None\")\n",
    "plt.ylim(np.max(source_mags)+0.05, np.min(source_mags)-0.05)\n",
    "plt.xlabel(\"MJD\")\n",
    "plt.ylabel(\"R mag\")"
   ]
  },
  {
   "cell_type": "code",
   "execution_count": null,
   "metadata": {
    "collapsed": true
   },
   "outputs": [],
   "source": []
  }
 ],
 "metadata": {
  "kernelspec": {
   "display_name": "Python 2",
   "language": "python",
   "name": "python2"
  },
  "language_info": {
   "codemirror_mode": {
    "name": "ipython",
    "version": 2
   },
   "file_extension": ".py",
   "mimetype": "text/x-python",
   "name": "python",
   "nbconvert_exporter": "python",
   "pygments_lexer": "ipython2",
   "version": "2.7.11"
  }
 },
 "nbformat": 4,
 "nbformat_minor": 0
}

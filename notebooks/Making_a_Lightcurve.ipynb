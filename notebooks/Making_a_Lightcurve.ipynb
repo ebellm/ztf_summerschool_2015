{
 "cells": [
  {
   "cell_type": "markdown",
   "metadata": {},
   "source": [
    "## Making a Lightcurve from PTF catalog data"
   ]
  },
  {
   "cell_type": "code",
   "execution_count": 145,
   "metadata": {
    "collapsed": true
   },
   "outputs": [],
   "source": [
    "import numpy as np\n",
    "import astropy.io.fits as fits\n",
    "import astropy.coordinates as coords\n",
    "import astropy.units as u\n",
    "from astropy.time import Time\n",
    "from glob import glob\n",
    "import matplotlib.pyplot as plt\n",
    "%matplotlib inline"
   ]
  },
  {
   "cell_type": "code",
   "execution_count": 8,
   "metadata": {
    "collapsed": true
   },
   "outputs": [],
   "source": [
    "reference_catalog = '../data/PTF_Refims_Files/PTF_d022683_f02_c06_u000114210_p12_sexcat.ctlg'\n",
    "# select R-band data (f02)\n",
    "epoch_catalogs = glob('../data/PTF_Procim_Files/PTF*f02*.ctlg')"
   ]
  },
  {
   "cell_type": "code",
   "execution_count": 10,
   "metadata": {
    "collapsed": false
   },
   "outputs": [
    {
     "data": {
      "text/plain": [
       "72"
      ]
     },
     "execution_count": 10,
     "metadata": {},
     "output_type": "execute_result"
    }
   ],
   "source": [
    "len(epoch_catalogs)"
   ]
  },
  {
   "cell_type": "code",
   "execution_count": 91,
   "metadata": {
    "collapsed": true
   },
   "outputs": [],
   "source": [
    "def load_ref_catalog(reference_catalog):\n",
    "    hdus = fits.open(reference_catalog)\n",
    "    data = hdus[1].data\n",
    "    # filter flagged detections\n",
    "    w = (data['flags'] & 506 == 0)\n",
    "    data = data[w]\n",
    "\n",
    "    ref_coords = coords.SkyCoord(data['X_WORLD'], data['Y_WORLD'],frame='icrs',unit='deg')\n",
    "\n",
    "    return np.vstack([data['MAG_AUTO'],data['MAGERR_AUTO']]).T, ref_coords"
   ]
  },
  {
   "cell_type": "code",
   "execution_count": 92,
   "metadata": {
    "collapsed": false
   },
   "outputs": [],
   "source": [
    "ref_mags, ref_coords = load_ref_catalog(reference_catalog)"
   ]
  },
  {
   "cell_type": "code",
   "execution_count": 94,
   "metadata": {
    "collapsed": false
   },
   "outputs": [
    {
     "data": {
      "text/plain": [
       "14043"
      ]
     },
     "execution_count": 94,
     "metadata": {},
     "output_type": "execute_result"
    }
   ],
   "source": [
    "len(ref_mags)"
   ]
  },
  {
   "cell_type": "code",
   "execution_count": 137,
   "metadata": {
    "collapsed": false
   },
   "outputs": [],
   "source": [
    "# optional: progress bar\n",
    "def load_progress_bar():\n",
    "    import uuid\n",
    "    from IPython.display import HTML, Javascript, display\n",
    "    import time\n",
    "\n",
    "    divid = str(uuid.uuid4())\n",
    "    pb = HTML(\n",
    "\"\"\"\n",
    "<div style=\"border: 1px solid black; width:500px\">\n",
    "  <div id=\"%s\" style=\"background-color:blue; width:0%%\">&nbsp;</div>\n",
    "</div> \n",
    "\"\"\" % divid)\n",
    "    display(pb)\n",
    "    return divid\n",
    "#for i in range(1,101):\n",
    "#    time.sleep(0.1)\n",
    "    \n",
    "#    display(Javascript(\"$('div#%s').width('%i%%')\" % (divid, i)))"
   ]
  },
  {
   "cell_type": "code",
   "execution_count": 138,
   "metadata": {
    "collapsed": false
   },
   "outputs": [],
   "source": [
    "def crossmatch_epochs(reference_coords, epoch_catalogs):\n",
    "    \n",
    "    n_stars = len(reference_coords)\n",
    "    n_epochs = len(epoch_catalogs)\n",
    "    \n",
    "    mags = np.ma.zeros([n_stars, n_epochs])\n",
    "    magerrs = np.ma.zeros([n_stars, n_epochs])\n",
    "    mjds = np.ma.zeros(n_epochs)\n",
    "    \n",
    "    divid = load_progress_bar()\n",
    "    for i, catalog in enumerate(epoch_catalogs):\n",
    "        #print catalog\n",
    "        hdus = fits.open(catalog)\n",
    "        data = hdus[1].data\n",
    "        hdr = hdus[2].header\n",
    "        # filter flagged detections\n",
    "        w = ((data['flags'] & 506 == 0) & (data['imaflags_iso'] & 1821 == 0))\n",
    "        data = data[w]\n",
    "\n",
    "        epoch_coords = coords.SkyCoord(data['X_WORLD'], data['Y_WORLD'],frame='icrs',unit='deg')\n",
    "        idx, sep, dist = coords.match_coordinates_sky(epoch_coords, reference_coords)\n",
    "        \n",
    "        wmatch = (sep <= 1.5*u.arcsec)\n",
    "        \n",
    "        # store data\n",
    "        if np.sum(wmatch):\n",
    "            mags[idx[wmatch],i] = data[wmatch]['MAG_AUTO'] + data[wmatch]['ZEROPOINT']\n",
    "            magerrs[idx[wmatch],i] = data[wmatch]['MAGERR_AUTO']\n",
    "            mjds[i] = hdr['OBSMJD']\n",
    "\n",
    "        display(Javascript(\"$('div#%s').width('%i%%')\" % (divid, i//n_epochs)))\n",
    "    return mjds, mags, magerrs"
   ]
  },
  {
   "cell_type": "code",
   "execution_count": 139,
   "metadata": {
    "collapsed": false
   },
   "outputs": [
    {
     "data": {
      "text/html": [
       "\n",
       "<div style=\"border: 1px solid black; width:500px\">\n",
       "  <div id=\"d8d912e5-4209-4e45-9005-4918260eb6f3\" style=\"background-color:blue; width:0%\">&nbsp;</div>\n",
       "</div> \n"
      ],
      "text/plain": [
       "<IPython.core.display.HTML object>"
      ]
     },
     "metadata": {},
     "output_type": "display_data"
    },
    {
     "data": {
      "application/javascript": [
       "$('div#d8d912e5-4209-4e45-9005-4918260eb6f3').width('0%')"
      ],
      "text/plain": [
       "<IPython.core.display.Javascript object>"
      ]
     },
     "metadata": {},
     "output_type": "display_data"
    },
    {
     "data": {
      "application/javascript": [
       "$('div#d8d912e5-4209-4e45-9005-4918260eb6f3').width('0%')"
      ],
      "text/plain": [
       "<IPython.core.display.Javascript object>"
      ]
     },
     "metadata": {},
     "output_type": "display_data"
    },
    {
     "data": {
      "application/javascript": [
       "$('div#d8d912e5-4209-4e45-9005-4918260eb6f3').width('0%')"
      ],
      "text/plain": [
       "<IPython.core.display.Javascript object>"
      ]
     },
     "metadata": {},
     "output_type": "display_data"
    },
    {
     "data": {
      "application/javascript": [
       "$('div#d8d912e5-4209-4e45-9005-4918260eb6f3').width('0%')"
      ],
      "text/plain": [
       "<IPython.core.display.Javascript object>"
      ]
     },
     "metadata": {},
     "output_type": "display_data"
    },
    {
     "data": {
      "application/javascript": [
       "$('div#d8d912e5-4209-4e45-9005-4918260eb6f3').width('0%')"
      ],
      "text/plain": [
       "<IPython.core.display.Javascript object>"
      ]
     },
     "metadata": {},
     "output_type": "display_data"
    },
    {
     "data": {
      "application/javascript": [
       "$('div#d8d912e5-4209-4e45-9005-4918260eb6f3').width('0%')"
      ],
      "text/plain": [
       "<IPython.core.display.Javascript object>"
      ]
     },
     "metadata": {},
     "output_type": "display_data"
    },
    {
     "data": {
      "application/javascript": [
       "$('div#d8d912e5-4209-4e45-9005-4918260eb6f3').width('0%')"
      ],
      "text/plain": [
       "<IPython.core.display.Javascript object>"
      ]
     },
     "metadata": {},
     "output_type": "display_data"
    },
    {
     "data": {
      "application/javascript": [
       "$('div#d8d912e5-4209-4e45-9005-4918260eb6f3').width('0%')"
      ],
      "text/plain": [
       "<IPython.core.display.Javascript object>"
      ]
     },
     "metadata": {},
     "output_type": "display_data"
    },
    {
     "data": {
      "application/javascript": [
       "$('div#d8d912e5-4209-4e45-9005-4918260eb6f3').width('0%')"
      ],
      "text/plain": [
       "<IPython.core.display.Javascript object>"
      ]
     },
     "metadata": {},
     "output_type": "display_data"
    },
    {
     "data": {
      "application/javascript": [
       "$('div#d8d912e5-4209-4e45-9005-4918260eb6f3').width('0%')"
      ],
      "text/plain": [
       "<IPython.core.display.Javascript object>"
      ]
     },
     "metadata": {},
     "output_type": "display_data"
    },
    {
     "data": {
      "application/javascript": [
       "$('div#d8d912e5-4209-4e45-9005-4918260eb6f3').width('0%')"
      ],
      "text/plain": [
       "<IPython.core.display.Javascript object>"
      ]
     },
     "metadata": {},
     "output_type": "display_data"
    },
    {
     "data": {
      "application/javascript": [
       "$('div#d8d912e5-4209-4e45-9005-4918260eb6f3').width('0%')"
      ],
      "text/plain": [
       "<IPython.core.display.Javascript object>"
      ]
     },
     "metadata": {},
     "output_type": "display_data"
    },
    {
     "data": {
      "application/javascript": [
       "$('div#d8d912e5-4209-4e45-9005-4918260eb6f3').width('0%')"
      ],
      "text/plain": [
       "<IPython.core.display.Javascript object>"
      ]
     },
     "metadata": {},
     "output_type": "display_data"
    },
    {
     "data": {
      "application/javascript": [
       "$('div#d8d912e5-4209-4e45-9005-4918260eb6f3').width('0%')"
      ],
      "text/plain": [
       "<IPython.core.display.Javascript object>"
      ]
     },
     "metadata": {},
     "output_type": "display_data"
    },
    {
     "data": {
      "application/javascript": [
       "$('div#d8d912e5-4209-4e45-9005-4918260eb6f3').width('0%')"
      ],
      "text/plain": [
       "<IPython.core.display.Javascript object>"
      ]
     },
     "metadata": {},
     "output_type": "display_data"
    },
    {
     "data": {
      "application/javascript": [
       "$('div#d8d912e5-4209-4e45-9005-4918260eb6f3').width('0%')"
      ],
      "text/plain": [
       "<IPython.core.display.Javascript object>"
      ]
     },
     "metadata": {},
     "output_type": "display_data"
    },
    {
     "data": {
      "application/javascript": [
       "$('div#d8d912e5-4209-4e45-9005-4918260eb6f3').width('0%')"
      ],
      "text/plain": [
       "<IPython.core.display.Javascript object>"
      ]
     },
     "metadata": {},
     "output_type": "display_data"
    },
    {
     "data": {
      "application/javascript": [
       "$('div#d8d912e5-4209-4e45-9005-4918260eb6f3').width('0%')"
      ],
      "text/plain": [
       "<IPython.core.display.Javascript object>"
      ]
     },
     "metadata": {},
     "output_type": "display_data"
    },
    {
     "data": {
      "application/javascript": [
       "$('div#d8d912e5-4209-4e45-9005-4918260eb6f3').width('0%')"
      ],
      "text/plain": [
       "<IPython.core.display.Javascript object>"
      ]
     },
     "metadata": {},
     "output_type": "display_data"
    },
    {
     "data": {
      "application/javascript": [
       "$('div#d8d912e5-4209-4e45-9005-4918260eb6f3').width('0%')"
      ],
      "text/plain": [
       "<IPython.core.display.Javascript object>"
      ]
     },
     "metadata": {},
     "output_type": "display_data"
    },
    {
     "data": {
      "application/javascript": [
       "$('div#d8d912e5-4209-4e45-9005-4918260eb6f3').width('0%')"
      ],
      "text/plain": [
       "<IPython.core.display.Javascript object>"
      ]
     },
     "metadata": {},
     "output_type": "display_data"
    },
    {
     "data": {
      "application/javascript": [
       "$('div#d8d912e5-4209-4e45-9005-4918260eb6f3').width('0%')"
      ],
      "text/plain": [
       "<IPython.core.display.Javascript object>"
      ]
     },
     "metadata": {},
     "output_type": "display_data"
    },
    {
     "data": {
      "application/javascript": [
       "$('div#d8d912e5-4209-4e45-9005-4918260eb6f3').width('0%')"
      ],
      "text/plain": [
       "<IPython.core.display.Javascript object>"
      ]
     },
     "metadata": {},
     "output_type": "display_data"
    },
    {
     "data": {
      "application/javascript": [
       "$('div#d8d912e5-4209-4e45-9005-4918260eb6f3').width('0%')"
      ],
      "text/plain": [
       "<IPython.core.display.Javascript object>"
      ]
     },
     "metadata": {},
     "output_type": "display_data"
    },
    {
     "data": {
      "application/javascript": [
       "$('div#d8d912e5-4209-4e45-9005-4918260eb6f3').width('0%')"
      ],
      "text/plain": [
       "<IPython.core.display.Javascript object>"
      ]
     },
     "metadata": {},
     "output_type": "display_data"
    },
    {
     "data": {
      "application/javascript": [
       "$('div#d8d912e5-4209-4e45-9005-4918260eb6f3').width('0%')"
      ],
      "text/plain": [
       "<IPython.core.display.Javascript object>"
      ]
     },
     "metadata": {},
     "output_type": "display_data"
    },
    {
     "data": {
      "application/javascript": [
       "$('div#d8d912e5-4209-4e45-9005-4918260eb6f3').width('0%')"
      ],
      "text/plain": [
       "<IPython.core.display.Javascript object>"
      ]
     },
     "metadata": {},
     "output_type": "display_data"
    },
    {
     "data": {
      "application/javascript": [
       "$('div#d8d912e5-4209-4e45-9005-4918260eb6f3').width('0%')"
      ],
      "text/plain": [
       "<IPython.core.display.Javascript object>"
      ]
     },
     "metadata": {},
     "output_type": "display_data"
    },
    {
     "data": {
      "application/javascript": [
       "$('div#d8d912e5-4209-4e45-9005-4918260eb6f3').width('0%')"
      ],
      "text/plain": [
       "<IPython.core.display.Javascript object>"
      ]
     },
     "metadata": {},
     "output_type": "display_data"
    },
    {
     "data": {
      "application/javascript": [
       "$('div#d8d912e5-4209-4e45-9005-4918260eb6f3').width('0%')"
      ],
      "text/plain": [
       "<IPython.core.display.Javascript object>"
      ]
     },
     "metadata": {},
     "output_type": "display_data"
    },
    {
     "data": {
      "application/javascript": [
       "$('div#d8d912e5-4209-4e45-9005-4918260eb6f3').width('0%')"
      ],
      "text/plain": [
       "<IPython.core.display.Javascript object>"
      ]
     },
     "metadata": {},
     "output_type": "display_data"
    },
    {
     "data": {
      "application/javascript": [
       "$('div#d8d912e5-4209-4e45-9005-4918260eb6f3').width('0%')"
      ],
      "text/plain": [
       "<IPython.core.display.Javascript object>"
      ]
     },
     "metadata": {},
     "output_type": "display_data"
    },
    {
     "data": {
      "application/javascript": [
       "$('div#d8d912e5-4209-4e45-9005-4918260eb6f3').width('0%')"
      ],
      "text/plain": [
       "<IPython.core.display.Javascript object>"
      ]
     },
     "metadata": {},
     "output_type": "display_data"
    },
    {
     "data": {
      "application/javascript": [
       "$('div#d8d912e5-4209-4e45-9005-4918260eb6f3').width('0%')"
      ],
      "text/plain": [
       "<IPython.core.display.Javascript object>"
      ]
     },
     "metadata": {},
     "output_type": "display_data"
    },
    {
     "data": {
      "application/javascript": [
       "$('div#d8d912e5-4209-4e45-9005-4918260eb6f3').width('0%')"
      ],
      "text/plain": [
       "<IPython.core.display.Javascript object>"
      ]
     },
     "metadata": {},
     "output_type": "display_data"
    },
    {
     "data": {
      "application/javascript": [
       "$('div#d8d912e5-4209-4e45-9005-4918260eb6f3').width('0%')"
      ],
      "text/plain": [
       "<IPython.core.display.Javascript object>"
      ]
     },
     "metadata": {},
     "output_type": "display_data"
    },
    {
     "data": {
      "application/javascript": [
       "$('div#d8d912e5-4209-4e45-9005-4918260eb6f3').width('0%')"
      ],
      "text/plain": [
       "<IPython.core.display.Javascript object>"
      ]
     },
     "metadata": {},
     "output_type": "display_data"
    },
    {
     "data": {
      "application/javascript": [
       "$('div#d8d912e5-4209-4e45-9005-4918260eb6f3').width('0%')"
      ],
      "text/plain": [
       "<IPython.core.display.Javascript object>"
      ]
     },
     "metadata": {},
     "output_type": "display_data"
    },
    {
     "data": {
      "application/javascript": [
       "$('div#d8d912e5-4209-4e45-9005-4918260eb6f3').width('0%')"
      ],
      "text/plain": [
       "<IPython.core.display.Javascript object>"
      ]
     },
     "metadata": {},
     "output_type": "display_data"
    },
    {
     "data": {
      "application/javascript": [
       "$('div#d8d912e5-4209-4e45-9005-4918260eb6f3').width('0%')"
      ],
      "text/plain": [
       "<IPython.core.display.Javascript object>"
      ]
     },
     "metadata": {},
     "output_type": "display_data"
    },
    {
     "data": {
      "application/javascript": [
       "$('div#d8d912e5-4209-4e45-9005-4918260eb6f3').width('0%')"
      ],
      "text/plain": [
       "<IPython.core.display.Javascript object>"
      ]
     },
     "metadata": {},
     "output_type": "display_data"
    },
    {
     "data": {
      "application/javascript": [
       "$('div#d8d912e5-4209-4e45-9005-4918260eb6f3').width('0%')"
      ],
      "text/plain": [
       "<IPython.core.display.Javascript object>"
      ]
     },
     "metadata": {},
     "output_type": "display_data"
    },
    {
     "data": {
      "application/javascript": [
       "$('div#d8d912e5-4209-4e45-9005-4918260eb6f3').width('0%')"
      ],
      "text/plain": [
       "<IPython.core.display.Javascript object>"
      ]
     },
     "metadata": {},
     "output_type": "display_data"
    },
    {
     "data": {
      "application/javascript": [
       "$('div#d8d912e5-4209-4e45-9005-4918260eb6f3').width('0%')"
      ],
      "text/plain": [
       "<IPython.core.display.Javascript object>"
      ]
     },
     "metadata": {},
     "output_type": "display_data"
    },
    {
     "data": {
      "application/javascript": [
       "$('div#d8d912e5-4209-4e45-9005-4918260eb6f3').width('0%')"
      ],
      "text/plain": [
       "<IPython.core.display.Javascript object>"
      ]
     },
     "metadata": {},
     "output_type": "display_data"
    },
    {
     "data": {
      "application/javascript": [
       "$('div#d8d912e5-4209-4e45-9005-4918260eb6f3').width('0%')"
      ],
      "text/plain": [
       "<IPython.core.display.Javascript object>"
      ]
     },
     "metadata": {},
     "output_type": "display_data"
    },
    {
     "data": {
      "application/javascript": [
       "$('div#d8d912e5-4209-4e45-9005-4918260eb6f3').width('0%')"
      ],
      "text/plain": [
       "<IPython.core.display.Javascript object>"
      ]
     },
     "metadata": {},
     "output_type": "display_data"
    },
    {
     "data": {
      "application/javascript": [
       "$('div#d8d912e5-4209-4e45-9005-4918260eb6f3').width('0%')"
      ],
      "text/plain": [
       "<IPython.core.display.Javascript object>"
      ]
     },
     "metadata": {},
     "output_type": "display_data"
    },
    {
     "data": {
      "application/javascript": [
       "$('div#d8d912e5-4209-4e45-9005-4918260eb6f3').width('0%')"
      ],
      "text/plain": [
       "<IPython.core.display.Javascript object>"
      ]
     },
     "metadata": {},
     "output_type": "display_data"
    },
    {
     "data": {
      "application/javascript": [
       "$('div#d8d912e5-4209-4e45-9005-4918260eb6f3').width('0%')"
      ],
      "text/plain": [
       "<IPython.core.display.Javascript object>"
      ]
     },
     "metadata": {},
     "output_type": "display_data"
    },
    {
     "data": {
      "application/javascript": [
       "$('div#d8d912e5-4209-4e45-9005-4918260eb6f3').width('0%')"
      ],
      "text/plain": [
       "<IPython.core.display.Javascript object>"
      ]
     },
     "metadata": {},
     "output_type": "display_data"
    },
    {
     "data": {
      "application/javascript": [
       "$('div#d8d912e5-4209-4e45-9005-4918260eb6f3').width('0%')"
      ],
      "text/plain": [
       "<IPython.core.display.Javascript object>"
      ]
     },
     "metadata": {},
     "output_type": "display_data"
    },
    {
     "data": {
      "application/javascript": [
       "$('div#d8d912e5-4209-4e45-9005-4918260eb6f3').width('0%')"
      ],
      "text/plain": [
       "<IPython.core.display.Javascript object>"
      ]
     },
     "metadata": {},
     "output_type": "display_data"
    },
    {
     "data": {
      "application/javascript": [
       "$('div#d8d912e5-4209-4e45-9005-4918260eb6f3').width('0%')"
      ],
      "text/plain": [
       "<IPython.core.display.Javascript object>"
      ]
     },
     "metadata": {},
     "output_type": "display_data"
    },
    {
     "data": {
      "application/javascript": [
       "$('div#d8d912e5-4209-4e45-9005-4918260eb6f3').width('0%')"
      ],
      "text/plain": [
       "<IPython.core.display.Javascript object>"
      ]
     },
     "metadata": {},
     "output_type": "display_data"
    },
    {
     "data": {
      "application/javascript": [
       "$('div#d8d912e5-4209-4e45-9005-4918260eb6f3').width('0%')"
      ],
      "text/plain": [
       "<IPython.core.display.Javascript object>"
      ]
     },
     "metadata": {},
     "output_type": "display_data"
    },
    {
     "data": {
      "application/javascript": [
       "$('div#d8d912e5-4209-4e45-9005-4918260eb6f3').width('0%')"
      ],
      "text/plain": [
       "<IPython.core.display.Javascript object>"
      ]
     },
     "metadata": {},
     "output_type": "display_data"
    },
    {
     "data": {
      "application/javascript": [
       "$('div#d8d912e5-4209-4e45-9005-4918260eb6f3').width('0%')"
      ],
      "text/plain": [
       "<IPython.core.display.Javascript object>"
      ]
     },
     "metadata": {},
     "output_type": "display_data"
    },
    {
     "data": {
      "application/javascript": [
       "$('div#d8d912e5-4209-4e45-9005-4918260eb6f3').width('0%')"
      ],
      "text/plain": [
       "<IPython.core.display.Javascript object>"
      ]
     },
     "metadata": {},
     "output_type": "display_data"
    },
    {
     "data": {
      "application/javascript": [
       "$('div#d8d912e5-4209-4e45-9005-4918260eb6f3').width('0%')"
      ],
      "text/plain": [
       "<IPython.core.display.Javascript object>"
      ]
     },
     "metadata": {},
     "output_type": "display_data"
    },
    {
     "data": {
      "application/javascript": [
       "$('div#d8d912e5-4209-4e45-9005-4918260eb6f3').width('0%')"
      ],
      "text/plain": [
       "<IPython.core.display.Javascript object>"
      ]
     },
     "metadata": {},
     "output_type": "display_data"
    },
    {
     "data": {
      "application/javascript": [
       "$('div#d8d912e5-4209-4e45-9005-4918260eb6f3').width('0%')"
      ],
      "text/plain": [
       "<IPython.core.display.Javascript object>"
      ]
     },
     "metadata": {},
     "output_type": "display_data"
    },
    {
     "data": {
      "application/javascript": [
       "$('div#d8d912e5-4209-4e45-9005-4918260eb6f3').width('0%')"
      ],
      "text/plain": [
       "<IPython.core.display.Javascript object>"
      ]
     },
     "metadata": {},
     "output_type": "display_data"
    },
    {
     "data": {
      "application/javascript": [
       "$('div#d8d912e5-4209-4e45-9005-4918260eb6f3').width('0%')"
      ],
      "text/plain": [
       "<IPython.core.display.Javascript object>"
      ]
     },
     "metadata": {},
     "output_type": "display_data"
    },
    {
     "data": {
      "application/javascript": [
       "$('div#d8d912e5-4209-4e45-9005-4918260eb6f3').width('0%')"
      ],
      "text/plain": [
       "<IPython.core.display.Javascript object>"
      ]
     },
     "metadata": {},
     "output_type": "display_data"
    },
    {
     "data": {
      "application/javascript": [
       "$('div#d8d912e5-4209-4e45-9005-4918260eb6f3').width('0%')"
      ],
      "text/plain": [
       "<IPython.core.display.Javascript object>"
      ]
     },
     "metadata": {},
     "output_type": "display_data"
    },
    {
     "data": {
      "application/javascript": [
       "$('div#d8d912e5-4209-4e45-9005-4918260eb6f3').width('0%')"
      ],
      "text/plain": [
       "<IPython.core.display.Javascript object>"
      ]
     },
     "metadata": {},
     "output_type": "display_data"
    },
    {
     "data": {
      "application/javascript": [
       "$('div#d8d912e5-4209-4e45-9005-4918260eb6f3').width('0%')"
      ],
      "text/plain": [
       "<IPython.core.display.Javascript object>"
      ]
     },
     "metadata": {},
     "output_type": "display_data"
    },
    {
     "data": {
      "application/javascript": [
       "$('div#d8d912e5-4209-4e45-9005-4918260eb6f3').width('0%')"
      ],
      "text/plain": [
       "<IPython.core.display.Javascript object>"
      ]
     },
     "metadata": {},
     "output_type": "display_data"
    },
    {
     "data": {
      "application/javascript": [
       "$('div#d8d912e5-4209-4e45-9005-4918260eb6f3').width('0%')"
      ],
      "text/plain": [
       "<IPython.core.display.Javascript object>"
      ]
     },
     "metadata": {},
     "output_type": "display_data"
    },
    {
     "data": {
      "application/javascript": [
       "$('div#d8d912e5-4209-4e45-9005-4918260eb6f3').width('0%')"
      ],
      "text/plain": [
       "<IPython.core.display.Javascript object>"
      ]
     },
     "metadata": {},
     "output_type": "display_data"
    },
    {
     "data": {
      "application/javascript": [
       "$('div#d8d912e5-4209-4e45-9005-4918260eb6f3').width('0%')"
      ],
      "text/plain": [
       "<IPython.core.display.Javascript object>"
      ]
     },
     "metadata": {},
     "output_type": "display_data"
    }
   ],
   "source": [
    "mjds,mags,magerrs = crossmatch_epochs(ref_coords, epoch_catalogs)"
   ]
  },
  {
   "cell_type": "code",
   "execution_count": 141,
   "metadata": {
    "collapsed": true
   },
   "outputs": [],
   "source": [
    "# mask obviously bad mags\n",
    "wbad = (mags < 10) | (mags > 25)\n",
    "mags[wbad] = np.ma.masked\n",
    "magerrs[wbad] = np.ma.masked"
   ]
  },
  {
   "cell_type": "code",
   "execution_count": 152,
   "metadata": {
    "collapsed": false
   },
   "outputs": [
    {
     "data": {
      "text/plain": [
       "1.6158913696261668"
      ]
     },
     "execution_count": 152,
     "metadata": {},
     "output_type": "execute_result"
    }
   ],
   "source": []
  },
  {
   "cell_type": "code",
   "execution_count": 201,
   "metadata": {
    "collapsed": false
   },
   "outputs": [
    {
     "data": {
      "text/plain": [
       "<Container object of 3 artists>"
      ]
     },
     "execution_count": 201,
     "metadata": {},
     "output_type": "execute_result"
    },
    {
     "data": {
      "image/png": "[encoded data removed]",
      "text/plain": [
       "<matplotlib.figure.Figure at 0x117956890>"
      ]
     },
     "metadata": {},
     "output_type": "display_data"
    }
   ],
   "source": [
    "source_idx = 14\n",
    "plt.errorbar(mjds, mags[source_idx,:],magerrs[source_idx,:],fmt='none')"
   ]
  },
  {
   "cell_type": "code",
   "execution_count": 170,
   "metadata": {
    "collapsed": false
   },
   "outputs": [
    {
     "data": {
      "text/plain": [
       "<matplotlib.collections.PathCollection at 0x112e9b610>"
      ]
     },
     "execution_count": 170,
     "metadata": {},
     "output_type": "execute_result"
    },
    {
     "data": {
      "image/png": "[encoded data removed]",
      "text/plain": [
       "<matplotlib.figure.Figure at 0x111a294d0>"
      ]
     },
     "metadata": {},
     "output_type": "display_data"
    }
   ],
   "source": [
    "plt.scatter(np.ma.median(mags,axis=1), np.ma.std(mags,axis=1)**2. - np.ma.mean(magerrs**2.,axis=1))"
   ]
  },
  {
   "cell_type": "code",
   "execution_count": 177,
   "metadata": {
    "collapsed": true
   },
   "outputs": [],
   "source": [
    "def relative_photometry(mags, magerrs):\n",
    "    #make copies, as we're going to modify the masks\n",
    "    all_mags = mags.copy()\n",
    "    all_errs = magerrs.copy()\n",
    "    \n",
    "    # average over observations\n",
    "    medmags = np.ma.median(all_mags,axis=1)\n",
    "    stdmags = np.ma.std(all_mags,axis=1)\n",
    "    MSE = np.ma.mean(all_errs**2.,axis=1)\n",
    "\n",
    "    # exclude bad stars: highly variable, saturated, or faint\n",
    "    # use excess variance to find bad objects\n",
    "    excess_variance = stdmags**2. - MSE\n",
    "    wbad = np.where((np.abs(excess_variance) > 0.3) | (medmags < 14.5) | (medmags > 19))\n",
    "    # mask them out\n",
    "    medmags[wbad] = np.ma.masked\n",
    "\n",
    "    # for each observation, take the median of the difference between the median mag and the observed mag\n",
    "    # annoying dimension swapping to get the 1D vector to blow up right\n",
    "    relative_zp = np.ma.median(all_mags - np.ma.resize(medmags,(all_mags.shape[1],all_mags.shape[0])).T,axis=0)\n",
    "\n",
    "    return relative_zp"
   ]
  },
  {
   "cell_type": "code",
   "execution_count": 184,
   "metadata": {
    "collapsed": false
   },
   "outputs": [],
   "source": [
    "# compute the relative photometry and subtract it. Don't fret about error propagation\n",
    "rel_zp = relative_photometry(mags, magerrs)\n",
    "mags -= np.ma.resize(rel_zp, mags.shape)"
   ]
  },
  {
   "cell_type": "code",
   "execution_count": 200,
   "metadata": {
    "collapsed": false
   },
   "outputs": [
    {
     "data": {
      "text/plain": [
       "<Container object of 3 artists>"
      ]
     },
     "execution_count": 200,
     "metadata": {},
     "output_type": "execute_result"
    },
    {
     "data": {
      "image/png": "[encoded data removed]",
      "text/plain": [
       "<matplotlib.figure.Figure at 0x11162ba10>"
      ]
     },
     "metadata": {},
     "output_type": "display_data"
    }
   ],
   "source": [
    "source_idx = 15\n",
    "plt.errorbar(mjds, mags[source_idx,:],magerrs[source_idx,:],fmt='none')"
   ]
  },
  {
   "cell_type": "code",
   "execution_count": 203,
   "metadata": {
    "collapsed": false
   },
   "outputs": [
    {
     "data": {
      "text/plain": [
       "<matplotlib.collections.PathCollection at 0x11b1c4650>"
      ]
     },
     "execution_count": 203,
     "metadata": {},
     "output_type": "execute_result"
    },
    {
     "data": {
      "image/png": "[encoded data removed]",
      "text/plain": [
       "<matplotlib.figure.Figure at 0x11172b290>"
      ]
     },
     "metadata": {},
     "output_type": "display_data"
    }
   ],
   "source": [
    "plt.scatter(np.ma.median(mags,axis=1), np.ma.std(mags,axis=1),alpha=0.1)"
   ]
  },
  {
   "cell_type": "code",
   "execution_count": 204,
   "metadata": {
    "collapsed": false
   },
   "outputs": [
    {
     "data": {
      "text/plain": [
       "<matplotlib.collections.PathCollection at 0x11b2b9ed0>"
      ]
     },
     "execution_count": 204,
     "metadata": {},
     "output_type": "execute_result"
    },
    {
     "data": {
      "image/png": "[encoded data removed]",
      "text/plain": [
       "<matplotlib.figure.Figure at 0x11b335210>"
      ]
     },
     "metadata": {},
     "output_type": "display_data"
    }
   ],
   "source": [
    "plt.scatter(np.ma.median(mags,axis=1), np.ma.sum(mags.mask,axis=1),alpha=0.1)"
   ]
  },
  {
   "cell_type": "code",
   "execution_count": null,
   "metadata": {
    "collapsed": true
   },
   "outputs": [],
   "source": [
    "# save the output: ref_coords, mjds, mags, magerrs."
   ]
  },
  {
   "cell_type": "code",
   "execution_count": null,
   "metadata": {
    "collapsed": true
   },
   "outputs": [],
   "source": [
    "np.savez('tmp',mjds,mags,magerrs)"
   ]
  },
  {
   "cell_type": "code",
   "execution_count": null,
   "metadata": {
    "collapsed": true
   },
   "outputs": [],
   "source": []
  }
 ],
 "metadata": {
  "kernelspec": {
   "display_name": "Python 2",
   "language": "python",
   "name": "python2"
  },
  "language_info": {
   "codemirror_mode": {
    "name": "ipython",
    "version": 2
   },
   "file_extension": ".py",
   "mimetype": "text/x-python",
   "name": "python",
   "nbconvert_exporter": "python",
   "pygments_lexer": "ipython2",
   "version": "2.7.9"
  }
 },
 "nbformat": 4,
 "nbformat_minor": 0
}
